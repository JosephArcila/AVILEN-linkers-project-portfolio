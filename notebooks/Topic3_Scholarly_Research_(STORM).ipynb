{
  "cells": [
    {
      "cell_type": "markdown",
      "metadata": {
        "id": "SdX6zIMXFi84"
      },
      "source": [
        "# Scholarly Research (STORM)\n",
        "\n",
        "[STORM](https://arxiv.org/abs/2402.14207) is a research assistant designed by Shao, et. al that extends the idea of \"outline-driven RAG\" for richer article generation.\n",
        "\n",
        "STORM is designed to generate Wikipedia-style ariticles on a user-provided topic. It applies two main insights to produce more organized and comprehensive articles:\n",
        "\n",
        "1. Creating an outline (planning) by querying similar topics helps improve coverage.\n",
        "2. Multi-perspective, grounded (in search) conversation simulation helps increase the reference count and information density.\n",
        "\n",
        "The control flow looks like the diagram below.\n",
        "\n",
        "STORM has a few main stages:\n",
        "\n",
        "1. Generate initial outline + Survey related subjects\n",
        "2. Identify distinct perspectives\n",
        "3. \"Interview subject matter experts\" (role-playing LLMs)\n",
        "4. Refine outline (using references)\n",
        "5. Write sections, then write article\n",
        "\n",
        "\n",
        "The expert interviews stage occurs between the role-playing article writer and a research expert. The \"expert\" is able to query external knowledge and respond to pointed questions, saving cited sources to a vectorstore so that the later refinement stages can synthesize the full article.\n",
        "\n",
        "There are a couple hyperparameters you can set to restrict the (potentially) infinite research breadth:\n",
        "\n",
        "N: Number of perspectives to survey / use (Steps 2->3)\n",
        "M: Max number of conversation turns in step (Step 3)\n",
        "\n",
        "\n",
        "## Setup\n",
        "\n",
        "First, let's install the required packages and set our API keys"
      ]
    },
    {
      "cell_type": "code",
      "execution_count": null,
      "metadata": {
        "id": "8ichytgiFi86"
      },
      "outputs": [],
      "source": [
        "%%capture --no-stderr\n",
        "%pip install -U langchain_community langchain_openai langchain_fireworks langgraph wikipedia duckduckgo-search tavily-python"
      ]
    },
    {
      "cell_type": "code",
      "execution_count": null,
      "metadata": {
        "id": "TajEeSuvFi86"
      },
      "outputs": [],
      "source": [
        "# Uncomment if you want to draw the pretty graph diagrams.\n",
        "# If you are on MacOS, you will need to run brew install graphviz before installing and update some environment flags\n",
        "# ! brew install graphviz\n",
        "# !CFLAGS=\"-I $(brew --prefix graphviz)/include\" LDFLAGS=\"-L $(brew --prefix graphviz)/lib\" pip install -U pygraphviz"
      ]
    },
    {
      "cell_type": "code",
      "source": [
        "import getpass\n",
        "import os\n",
        "from openai import OpenAI\n",
        "from langchain_openai import ChatOpenAI\n",
        "\n",
        "\n",
        "def _set_env(var: str):\n",
        "    if os.environ.get(var):\n",
        "        return\n",
        "    os.environ[var] = getpass.getpass(var + \":\")\n",
        "\n",
        "os.environ[\"OPENALEX_EMAIL\"] = \"josepharcila@gmail.com\"\n",
        "\n",
        "# OpenAI\n",
        "api_key = \"b21428322f364595910f4d001b28f2608ef1cc7745d846a2ad89aed1e6d244ff\"\n",
        "base_url = \"https://llmapi.ops.avilen.co.jp/v1/linkers-lfm/\"\n",
        "\n",
        "# Initialize client\n",
        "client = OpenAI(base_url=base_url, api_key=api_key)"
      ],
      "metadata": {
        "id": "TNCdMdAvtjTj"
      },
      "execution_count": null,
      "outputs": []
    },
    {
      "cell_type": "markdown",
      "metadata": {
        "id": "LZd8mjQuFi87"
      },
      "source": [
        "<div class=\"admonition tip\">\n",
        "    <p class=\"admonition-title\">Set up <a href=\"https://smith.langchain.com\">LangSmith</a> for LangGraph development</p>\n",
        "    <p style=\"padding-top: 5px;\">\n",
        "        Sign up for LangSmith to quickly spot issues and improve the performance of your LangGraph projects. LangSmith lets you use trace data to debug, test, and monitor your LLM apps built with LangGraph — read more about how to get started <a href=\"https://docs.smith.langchain.com\">here</a>.\n",
        "    </p>\n",
        "</div>   "
      ]
    },
    {
      "cell_type": "markdown",
      "metadata": {
        "id": "tbNaX7XBFi87"
      },
      "source": [
        "### Select LLMs\n",
        "\n",
        "We will have a faster LLM do most of the work, but a slower, long-context model to distill the conversations and write the final report."
      ]
    },
    {
      "cell_type": "code",
      "execution_count": null,
      "metadata": {
        "id": "qn4AfQe6Fi87"
      },
      "outputs": [],
      "source": [
        "from langchain_openai import ChatOpenAI\n",
        "\n",
        "# fast_llm = ChatOpenAI(openai_api_base=base_url, openai_api_key=api_key, model=\"openai.gpt-4o\")\n",
        "# Uncomment for a Fireworks model\n",
        "# fast_llm = ChatFireworks(model=\"accounts/fireworks/models/firefunction-v1\", max_tokens=32_000)\n",
        "long_context_llm = ChatOpenAI(openai_api_base=base_url, openai_api_key=api_key, model=\"openai.o1-2024-12-17\")"
      ]
    },
    {
      "cell_type": "markdown",
      "metadata": {
        "id": "SJrUZIdvFi88"
      },
      "source": [
        "## Generate Initial Outline\n",
        "\n",
        "For many topics, your LLM may have an initial idea of the important and related topics. We can generate an initial\n",
        "outline to be refined after our research. Below, we will use our \"fast\" llm to generate the outline."
      ]
    },
    {
      "cell_type": "markdown",
      "metadata": {
        "id": "K8DLOayiFi88"
      },
      "source": [
        "<div class=\"admonition note\">\n",
        "    <p class=\"admonition-title\">Using Pydantic with LangChain</p>\n",
        "    <p>\n",
        "        This notebook uses Pydantic v2 <code>BaseModel</code>, which requires <code>langchain-core >= 0.3</code>. Using <code>langchain-core < 0.3</code> will result in errors due to mixing of Pydantic v1 and v2 <code>BaseModels</code>.\n",
        "    </p>\n",
        "</div>"
      ]
    },
    {
      "cell_type": "code",
      "execution_count": null,
      "metadata": {
        "id": "mFHCHU4KFi89"
      },
      "outputs": [],
      "source": [
        "from typing import List, Optional\n",
        "\n",
        "from langchain_core.prompts import ChatPromptTemplate\n",
        "\n",
        "from pydantic import BaseModel, Field\n",
        "\n",
        "direct_gen_outline_prompt = ChatPromptTemplate.from_messages(\n",
        "    [\n",
        "        (\n",
        "            \"system\",\n",
        "            \"あなたはWikipediaの執筆者です。ユーザーが提供したトピックについてのWikipediaページの概要を作成してください。包括的かつ具体的に書いてください。\",\n",
        "        ),\n",
        "        (\"user\", \"{topic}\"),\n",
        "    ]\n",
        ")\n",
        "\n",
        "\n",
        "class Subsection(BaseModel):\n",
        "    subsection_title: str = Field(..., title=\"小節のタイトル\")\n",
        "    description: str = Field(..., title=\"小節の内容\")\n",
        "\n",
        "    @property\n",
        "    def as_str(self) -> str:\n",
        "        return f\"### {self.subsection_title}\\n\\n{self.description}\".strip()\n",
        "\n",
        "\n",
        "class Section(BaseModel):\n",
        "    section_title: str = Field(..., title=\"節のタイトル\")\n",
        "    description: str = Field(..., title=\"節の内容\")\n",
        "    subsections: Optional[List[Subsection]] = Field(\n",
        "        default=None,\n",
        "        title=\"Wikipediaページの各小節のタイトルと説明\",\n",
        "    )\n",
        "\n",
        "    @property\n",
        "    def as_str(self) -> str:\n",
        "        subsections = \"\\n\\n\".join(\n",
        "            f\"### {subsection.subsection_title}\\n\\n{subsection.description}\"\n",
        "            for subsection in self.subsections or []\n",
        "        )\n",
        "        return f\"## {self.section_title}\\n\\n{self.description}\\n\\n{subsections}\".strip()\n",
        "\n",
        "\n",
        "class Outline(BaseModel):\n",
        "    page_title: str = Field(..., title=\"Wikipediaページのタイトル\")\n",
        "    sections: List[Section] = Field(\n",
        "        default_factory=list,\n",
        "        title=\"Wikipediaページの各節のタイトルと説明\",\n",
        "    )\n",
        "\n",
        "    @property\n",
        "    def as_str(self) -> str:\n",
        "        sections = \"\\n\\n\".join(section.as_str for section in self.sections)\n",
        "        return f\"# {self.page_title}\\n\\n{sections}\".strip()\n",
        "\n",
        "\n",
        "generate_outline_direct = direct_gen_outline_prompt | long_context_llm.with_structured_output(\n",
        "    Outline\n",
        ")"
      ]
    },
    {
      "cell_type": "code",
      "execution_count": null,
      "metadata": {
        "id": "sWo3fOwWFi89",
        "colab": {
          "base_uri": "https://localhost:8080/"
        },
        "outputId": "a4fe5461-9827-48cf-ec06-2348654a9760"
      },
      "outputs": [
        {
          "output_type": "stream",
          "name": "stdout",
          "text": [
            "# エクソソーム研究のトレンド\n",
            "\n",
            "## 概要\n",
            "\n",
            "エクソソームとは、細胞が分泌する直径30～150nm程度の小胞であり、タンパク質やリポイド、核酸など多様な生体分子を含む。細胞間情報伝達に重要な役割を果たすと考えられ、がん研究や再生医療など幅広い分野で注目されている。本節ではエクソソームの基本的な特徴と、研究分野全体のトレンドを概観する。\n",
            "\n",
            "### エクソソームの機能と特性\n",
            "\n",
            "エクソソームはシグナル伝達、細胞間コミュニケーション、免疫応答などにおいて重要な働きを持つ。また、エクソソームの膜タンパク質や内部に含まれる核酸（microRNA, mRNAなど）の解析により、疾患のバイオマーカーとして期待されている。\n",
            "\n",
            "## 研究の歴史\n",
            "\n",
            "エクソソームに関する研究は1980年代に始まり、当初は細胞の老廃物排出経路として認知されていたが、その後細胞間情報伝達に大きく貢献するとの知見が蓄積し注目が高まった。1990年代以降、先端的な解析技術の発展とともに研究が加速し、多様な疾患や生理機能との関連が明らかとなってきた。\n",
            "\n",
            "## 解析技術の進歩\n",
            "\n",
            "エクソソーム研究を支える解析技術は年々進歩しており、分離・精製法や高感度なオミクス解析などがキーポイントとなっている。\n",
            "\n",
            "### 分離・精製技術の高度化\n",
            "\n",
            "超遠心法やサイズ排除クロマトグラフィー、イムノアフィニティ法など、より高純度かつ高収量でエクソソームを取得するための方法が開発・改良されている。また微小流路などのマイクロ流体デバイスを用いた分離法も提案されている。\n",
            "\n",
            "### 多角的オミクス解析\n",
            "\n",
            "プロテオーム解析・トランスクリプトーム解析・メタボローム解析などの包括的解析が可能となり、エクソソームが含む生体分子の全体像を把握しやすくなった。特に次世代シーケンサー（NGS）の普及により、エクソソーム中のmiRNAやlncRNAなどの非コードRNAの研究が急速に進展している。\n",
            "\n",
            "## 応用研究のトレンド\n",
            "\n",
            "エクソソームを利用した診断・治療技術の開発が活発化しており、がんや神経変性疾患などへの応用が注目されている。\n",
            "\n",
            "### バイオマーカー開発\n",
            "\n",
            "血中や体液中に含まれるエクソソームから、疾患特異的なmiRNAやタンパク質を検出することで、早期診断につなげる試みが進んでいる。非侵襲的な検査手法として期待が高まっている。\n",
            "\n",
            "### ドラッグデリバリーシステムとしての応用\n",
            "\n",
            "エクソソームは細胞由来であり免疫原性が低いことから、薬物や遺伝子の送達媒体（DDS）としての応用が試みられている。標的細胞へ特異的に導入できる経路の解明や、エクソソーム改変技術の開発が進むことで、有効な治療法の確立が期待される。\n",
            "\n",
            "## 今後の課題と展望\n",
            "\n",
            "エクソソームの研究は急速に拡大しているが、まだ解明されていない点も多く、標準化や大量生産などの課題が残されている。\n",
            "\n",
            "### 標準化と定義の確立\n",
            "\n",
            "エクソソームとその他の細胞外小胞の定量的な区別や、分離方法の統一化が重要な課題となっている。異なる手法を用いた研究結果の比較が難しいため、標準化に向けた国際的な取り組みが行われている。\n",
            "\n",
            "### 産業応用と規制面\n",
            "\n",
            "再生医療や薬物送達などへの産業応用が進められているが、安全性や品質確保に関する規制面での整備が求められる。大規模にエクソソームを生産し、均質な製品を得るための技術開発も必須となっている。\n",
            "\n",
            "### 今後の方向性\n",
            "\n",
            "エクソソームを含めた細胞外小胞のさらなる機能解明や、フロンティア技術を取り入れた高精度な解析技術の確立が期待される。創薬・再生医療分野の発展に寄与するだけでなく、新たなバイオ技術の基盤となる可能性がある。\n"
          ]
        }
      ],
      "source": [
        "# example_topic = \"熱・風以外の方法で髪の毛を乾かす技術のトレンドを教えて\"\n",
        "# example_topic = \"アミンを用いた固体状のCO2吸着剤のトレンドを教えて\"\n",
        "example_topic = \"エクソソームの研究のトレンドを教えて\"\n",
        "# example_topic = \"安全に関する行動変容手法のトレンドを教えて\"\n",
        "# example_topic = \"加熱調理器における料理品質・体験・機能に関する開発のトレンドを教えて\"\n",
        "\n",
        "initial_outline = generate_outline_direct.invoke({\"topic\": example_topic})\n",
        "\n",
        "print(initial_outline.as_str)"
      ]
    },
    {
      "cell_type": "markdown",
      "metadata": {
        "id": "pUNBYYbZFi89"
      },
      "source": [
        "## Expand Topics\n",
        "\n",
        "While language models do store some Wikipedia-like knowledge in their parameters, you will get better results by incorporating relevant and recent information using a search engine.\n",
        "\n",
        "We will start our search by generating a list of related topics, sourced from Wikipedia."
      ]
    },
    {
      "cell_type": "code",
      "execution_count": null,
      "metadata": {
        "id": "vl5oVV5BFi89"
      },
      "outputs": [],
      "source": [
        "gen_related_topics_prompt = ChatPromptTemplate.from_template(\n",
        "    \"\"\"以下のトピックについてWikipediaページを執筆しています。関連する主題のWikipediaページを特定し、推奨してください。このトピックに一般的に関連する興味深い側面についての洞察を提供する例や、類似トピックのWikipediaページに含まれる典型的な内容と構造を理解するのに役立つ例を探しています。\n",
        "できるだけ多くの関連主題とURLを列挙してください。\n",
        "対象トピック: {topic}\n",
        "\"\"\"\n",
        ")\n",
        "\n",
        "\n",
        "class RelatedSubjects(BaseModel):\n",
        "    topics: List[str] = Field(\n",
        "        description=\"背景調査のための関連主題の包括的なリスト\",\n",
        "    )\n",
        "\n",
        "\n",
        "expand_chain = gen_related_topics_prompt | long_context_llm.with_structured_output(\n",
        "    RelatedSubjects\n",
        ")"
      ]
    },
    {
      "cell_type": "code",
      "execution_count": null,
      "metadata": {
        "id": "PaW1_2kRFi8-",
        "colab": {
          "base_uri": "https://localhost:8080/"
        },
        "outputId": "1430dea5-18b4-4845-ed70-9e91be7b31c5"
      },
      "outputs": [
        {
          "output_type": "execute_result",
          "data": {
            "text/plain": [
              "RelatedSubjects(topics=['エクソソーム: https://ja.wikipedia.org/wiki/エクソソーム', '細胞外小胞: https://ja.wikipedia.org/wiki/細胞外小胞', 'マイクロベシクル: https://ja.wikipedia.org/wiki/マイクロベシクル', '液性生検: https://ja.wikipedia.org/wiki/液性生検', 'バイオマーカー: https://ja.wikipedia.org/wiki/バイオマーカー', 'ドラッグデリバリーシステム: https://ja.wikipedia.org/wiki/ドラッグデリバリーシステム', '遺伝子治療: https://ja.wikipedia.org/wiki/遺伝子治療', 'MicroRNA: https://ja.wikipedia.org/wiki/MicroRNA', '細胞シグナリング: https://ja.wikipedia.org/wiki/細胞シグナリング', '腫瘍微小環境（英語）: https://en.wikipedia.org/wiki/Tumor_microenvironment', '免疫療法: https://ja.wikipedia.org/wiki/免疫療法', 'ナノメディシン: https://ja.wikipedia.org/wiki/ナノメディシン'])"
            ]
          },
          "metadata": {},
          "execution_count": 8
        }
      ],
      "source": [
        "related_subjects = await expand_chain.ainvoke({\"topic\": example_topic})\n",
        "related_subjects"
      ]
    },
    {
      "cell_type": "markdown",
      "metadata": {
        "id": "kKRj8liMFi8-"
      },
      "source": [
        "## Generate Perspectives\n",
        "\n",
        "From these related subjects, we can select representative Wikipedia editors as \"subject matter experts\" with distinct\n",
        "backgrounds and affiliations. These will help distribute the search process to encourage a more well-rounded final report."
      ]
    },
    {
      "cell_type": "code",
      "execution_count": null,
      "metadata": {
        "id": "sPxmeDI5Fi8-"
      },
      "outputs": [],
      "source": [
        "class Editor(BaseModel):\n",
        "    affiliation: str = Field(\n",
        "        description=\"編集者の主な所属\",\n",
        "    )\n",
        "    name: str = Field(\n",
        "        description=\"編集者の名前\", pattern=r\"^[a-zA-Z0-9_-]{1,64}$\"\n",
        "    )\n",
        "    role: str = Field(\n",
        "        description=\"トピックに関連する編集者の役割\",\n",
        "    )\n",
        "    description: str = Field(\n",
        "        description=\"編集者の焦点、関心事、動機の説明\",\n",
        "    )\n",
        "\n",
        "    @property\n",
        "    def persona(self) -> str:\n",
        "        return f\"名前: {self.name}\\n役割: {self.role}\\n所属: {self.affiliation}\\n説明: {self.description}\\n\"\n",
        "\n",
        "\n",
        "class Perspectives(BaseModel):\n",
        "    editors: List[Editor] = Field(\n",
        "        description=\"編集者とその役割、所属の包括的なリスト\",\n",
        "        # Add a pydantic validation/restriction to be at most M editors\n",
        "    )\n",
        "\n",
        "\n",
        "gen_perspectives_prompt = ChatPromptTemplate.from_messages(\n",
        "    [\n",
        "        (\n",
        "            \"system\",\n",
        "            \"\"\"トピックについて包括的な記事を作成するために協力して作業する、多様で個性的なWikipedia編集者グループを選定する必要があります。各編集者は、このトピックに関連する異なる視点、役割、所属を代表します。\\\n",
        "\n",
        "    着想を得るために、関連トピックの他のWikipediaページを参考にすることができます。各編集者について、何に焦点を当てるかの説明を追加してください。\n",
        "\n",
        "    着想を得るための関連トピックのWikiページの概要：\n",
        "\n",
        "    {examples}\"\"\",\n",
        "        ),\n",
        "        (\"user\", \"対象トピック: {topic}\"),\n",
        "    ]\n",
        ")\n",
        "\n",
        "gen_perspectives_chain = (\n",
        "    gen_perspectives_prompt\n",
        "    | ChatOpenAI(\n",
        "        openai_api_base=base_url,\n",
        "        openai_api_key=api_key,\n",
        "        model=\"openai.gpt-3.5-turbo\"\n",
        "    ).with_structured_output(\n",
        "        Perspectives,\n",
        "        method=\"function_calling\"\n",
        "    )\n",
        ")"
      ]
    },
    {
      "cell_type": "code",
      "execution_count": null,
      "metadata": {
        "id": "7vwy3o4NFi8-"
      },
      "outputs": [],
      "source": [
        "from langchain_community.retrievers import WikipediaRetriever\n",
        "from langchain_core.runnables import RunnableLambda\n",
        "from langchain_core.runnables import chain as as_runnable\n",
        "\n",
        "wikipedia_retriever = WikipediaRetriever(load_all_available_meta=True, top_k_results=1)\n",
        "\n",
        "\n",
        "def format_doc(doc, max_length=1000):\n",
        "    related = \"- \".join(doc.metadata[\"categories\"])\n",
        "    return f\"### {doc.metadata['title']}\\n\\n概要: {doc.page_content}\\n\\n関連\\n{related}\"[\n",
        "        :max_length\n",
        "        ]\n",
        "\n",
        "\n",
        "def format_docs(docs):\n",
        "    return \"\\n\\n\".join(format_doc(doc) for doc in docs)\n",
        "\n",
        "\n",
        "@as_runnable\n",
        "async def survey_subjects(topic: str):\n",
        "    related_subjects = await expand_chain.ainvoke({\"topic\": topic})\n",
        "    retrieved_docs = await wikipedia_retriever.abatch(\n",
        "        related_subjects.topics, return_exceptions=True\n",
        "    )\n",
        "    all_docs = []\n",
        "    for docs in retrieved_docs:\n",
        "        if isinstance(docs, BaseException):\n",
        "            continue\n",
        "        all_docs.extend(docs)\n",
        "    formatted = format_docs(all_docs)\n",
        "    return await gen_perspectives_chain.ainvoke({\"examples\": formatted, \"topic\": topic})"
      ]
    },
    {
      "cell_type": "code",
      "execution_count": null,
      "metadata": {
        "id": "QbJ1jtu5Fi8-"
      },
      "outputs": [],
      "source": [
        "perspectives = await survey_subjects.ainvoke(example_topic)"
      ]
    },
    {
      "cell_type": "code",
      "execution_count": null,
      "metadata": {
        "id": "rRWVFumvFi8-",
        "colab": {
          "base_uri": "https://localhost:8080/"
        },
        "outputId": "dacf0473-818c-4047-c879-ee9f4447e45e"
      },
      "outputs": [
        {
          "output_type": "stream",
          "name": "stderr",
          "text": [
            "<ipython-input-12-b975437d5130>:1: PydanticDeprecatedSince20: The `dict` method is deprecated; use `model_dump` instead. Deprecated in Pydantic V2.0 to be removed in V3.0. See Pydantic V2 Migration Guide at https://errors.pydantic.dev/2.10/migration/\n",
            "  perspectives.dict()\n"
          ]
        },
        {
          "output_type": "execute_result",
          "data": {
            "text/plain": [
              "{'editors': [{'affiliation': 'Research Institute A',\n",
              "   'name': 'Alice123',\n",
              "   'role': 'Research Scientist',\n",
              "   'description': 'Alice is a research scientist specializing in the study of exosomes. She focuses on the latest research trends, experimental methodologies, and breakthroughs in the field of exosome research.'},\n",
              "  {'affiliation': 'University B',\n",
              "   'name': 'Bob456',\n",
              "   'role': 'Academic Researcher',\n",
              "   'description': 'Bob is an academic researcher with a keen interest in exosome research trends. He follows developments in exosome-based diagnostics, therapeutics, and potential applications in various fields.'},\n",
              "  {'affiliation': 'Biotech Company C',\n",
              "   'name': 'Chris789',\n",
              "   'role': 'Biotech Industry Expert',\n",
              "   'description': 'Chris is a biotech industry expert closely monitoring the commercial aspects of exosome research, including market trends, investment opportunities, and the development of exosome-based products.'}]}"
            ]
          },
          "metadata": {},
          "execution_count": 12
        }
      ],
      "source": [
        "perspectives.dict()"
      ]
    },
    {
      "cell_type": "markdown",
      "metadata": {
        "id": "Sg3y97AUFi8-"
      },
      "source": [
        "## Expert Dialog\n",
        "\n",
        "Now the true fun begins, each wikipedia writer is primed to role-play using the perspectives presented above. It will ask a series of questions of a second \"domain expert\" with access to a search engine. This generate content to generate a refined outline as well as an updated index of reference documents.\n",
        "\n",
        "\n",
        "### Interview State\n",
        "\n",
        "The conversation is cyclic, so we will construct it within its own graph. The State will contain messages, the reference docs, and the editor (with its own \"persona\") to make it easy to parallelize these conversations."
      ]
    },
    {
      "cell_type": "code",
      "execution_count": null,
      "metadata": {
        "id": "ZujehgOJFi8_"
      },
      "outputs": [],
      "source": [
        "from typing import Annotated\n",
        "\n",
        "from langchain_core.messages import AnyMessage\n",
        "from typing_extensions import TypedDict\n",
        "\n",
        "from langgraph.graph import END, StateGraph, START\n",
        "\n",
        "\n",
        "def add_messages(left, right):\n",
        "    if not isinstance(left, list):\n",
        "        left = [left]\n",
        "    if not isinstance(right, list):\n",
        "        right = [right]\n",
        "    return left + right\n",
        "\n",
        "\n",
        "def update_references(references, new_references):\n",
        "    if not references:\n",
        "        references = {}\n",
        "    references.update(new_references)\n",
        "    return references\n",
        "\n",
        "\n",
        "def update_editor(editor, new_editor):\n",
        "    # Can only set at the outset\n",
        "    if not editor:\n",
        "        return new_editor\n",
        "    return editor\n",
        "\n",
        "\n",
        "class InterviewState(TypedDict):\n",
        "    messages: Annotated[List[AnyMessage], add_messages]\n",
        "    references: Annotated[Optional[dict], update_references]\n",
        "    editor: Annotated[Optional[Editor], update_editor]"
      ]
    },
    {
      "cell_type": "markdown",
      "metadata": {
        "id": "uQto3oHgFi8_"
      },
      "source": [
        "#### Dialog Roles\n",
        "\n",
        "The graph will have two participants: the wikipedia editor (`generate_question`), who asks questions based on its assigned role, and a domain expert (`gen_answer_chain), who uses a search engine to answer the questions as accurately as possible."
      ]
    },
    {
      "cell_type": "code",
      "execution_count": null,
      "metadata": {
        "id": "T5RPEc-WFi8_"
      },
      "outputs": [],
      "source": [
        "from langchain_core.messages import AIMessage, HumanMessage, ToolMessage\n",
        "from langchain_core.prompts import MessagesPlaceholder\n",
        "\n",
        "gen_qn_prompt = ChatPromptTemplate.from_messages(\n",
        "    [\n",
        "        (\n",
        "            \"system\",\n",
        "            \"\"\"あなたは経験豊富なWikipedia編集者で、特定のページを編集したいと考えています。\n",
        "Wikipedia編集者としての立場に加えて、トピックを研究する際の特定の焦点があります。\n",
        "現在、専門家と情報を得るためにチャットをしています。有用な情報を得るために、良い質問をしてください。\n",
        "質問がなくなったら、「ご協力ありがとうございました！」と言って会話を終了してください。\n",
        "質問は一度に一つずつ行い、以前に尋ねた質問は繰り返さないでください。\n",
        "質問は執筆したいトピックに関連したものにしてください。\n",
        "包括的で好奇心を持って、専門家からできるだけ多くのユニークな洞察を得るようにしてください。\\\n",
        "あなたの特定の視点を忠実に守ってください：\n",
        "{persona}\"\"\",\n",
        "        ),\n",
        "        MessagesPlaceholder(variable_name=\"messages\", optional=True),\n",
        "    ]\n",
        ")\n",
        "\n",
        "\n",
        "def tag_with_name(ai_message: AIMessage, name: str):\n",
        "    ai_message.name = name\n",
        "    return ai_message\n",
        "\n",
        "\n",
        "def swap_roles(state: InterviewState, name: str):\n",
        "    converted = []\n",
        "    for message in state[\"messages\"]:\n",
        "        if isinstance(message, AIMessage) and message.name != name:\n",
        "            message = HumanMessage(**message.dict(exclude={\"type\"}))\n",
        "        converted.append(message)\n",
        "    return {\"messages\": converted}\n",
        "\n",
        "\n",
        "@as_runnable\n",
        "async def generate_question(state: InterviewState):\n",
        "    editor = state[\"editor\"]\n",
        "    gn_chain = (\n",
        "        RunnableLambda(swap_roles).bind(name=editor.name)\n",
        "        | gen_qn_prompt.partial(persona=editor.persona)\n",
        "        | long_context_llm\n",
        "        | RunnableLambda(tag_with_name).bind(name=editor.name)\n",
        "    )\n",
        "    result = await gn_chain.ainvoke(state)\n",
        "    return {\"messages\": [result]}"
      ]
    },
    {
      "cell_type": "code",
      "execution_count": null,
      "metadata": {
        "id": "Yxp6mUmzFi8_",
        "colab": {
          "base_uri": "https://localhost:8080/",
          "height": 53
        },
        "outputId": "66664773-5d86-4693-feec-87af56fe70d1"
      },
      "outputs": [
        {
          "output_type": "execute_result",
          "data": {
            "text/plain": [
              "'はい、そうです。エクソソーム研究のトレンドについての記事を執筆しています。  \\nそこで一つ目の質問なのですが、過去1年間におけるエクソソーム研究の中で、最も画期的だと思われる発見や進展は何でしょうか？  '"
            ],
            "application/vnd.google.colaboratory.intrinsic+json": {
              "type": "string"
            }
          },
          "metadata": {},
          "execution_count": 15
        }
      ],
      "source": [
        "messages = [\n",
        "    HumanMessage(f\"では、{example_topic}について記事を書いているとおっしゃっていましたか？\")\n",
        "]\n",
        "question = await generate_question.ainvoke(\n",
        "    {\n",
        "        \"editor\": perspectives.editors[0],\n",
        "        \"messages\": messages,\n",
        "    }\n",
        ")\n",
        "\n",
        "question[\"messages\"][0].content"
      ]
    },
    {
      "cell_type": "markdown",
      "metadata": {
        "id": "E2Rbu-Q4Fi8_"
      },
      "source": [
        "#### Answer questions\n",
        "\n",
        "The `gen_answer_chain` first generates queries (query expansion) to answer the editor's question, then responds with citations."
      ]
    },
    {
      "cell_type": "code",
      "execution_count": null,
      "metadata": {
        "id": "Ia4Ny9JSFi8_"
      },
      "outputs": [],
      "source": [
        "class Queries(BaseModel):\n",
        "    queries: List[str] = Field(\n",
        "        description=\"ユーザーの質問に答えるためのOpenAlex検索エンジンクエリの包括的なリスト\",\n",
        "    )\n",
        "\n",
        "\n",
        "gen_queries_prompt = ChatPromptTemplate.from_messages(\n",
        "    [\n",
        "        (\n",
        "            \"system\",\n",
        "            \"あなたは役立つ学術研究アシスタントです。ユーザーの質問に答えるためにOpenAlex APIの検索エンジンに問い合わせてください。\",\n",
        "        ),\n",
        "        MessagesPlaceholder(variable_name=\"messages\", optional=True),\n",
        "    ]\n",
        ")\n",
        "gen_queries_chain = gen_queries_prompt | ChatOpenAI(\n",
        "    openai_api_base=base_url,\n",
        "    openai_api_key=api_key,\n",
        "    model=\"openai.o1-2024-12-17\"\n",
        ").with_structured_output(Queries, include_raw=True)"
      ]
    },
    {
      "cell_type": "code",
      "execution_count": null,
      "metadata": {
        "id": "RC6GxcXVFi8_",
        "colab": {
          "base_uri": "https://localhost:8080/"
        },
        "outputId": "b41b9646-9007-4da4-8243-9ce955cfc0de"
      },
      "outputs": [
        {
          "output_type": "execute_result",
          "data": {
            "text/plain": [
              "['search=exosome+breakthroughs+OR+advancements&filter=from_publication_date:2022-10-01,to_publication_date:2023-10-06&sort=cited_by_count:desc']"
            ]
          },
          "metadata": {},
          "execution_count": 17
        }
      ],
      "source": [
        "queries = await gen_queries_chain.ainvoke(\n",
        "    {\"messages\": [HumanMessage(content=question[\"messages\"][0].content)]}\n",
        ")\n",
        "queries[\"parsed\"].queries"
      ]
    },
    {
      "cell_type": "code",
      "execution_count": null,
      "metadata": {
        "id": "QtmZjNSkFi8_"
      },
      "outputs": [],
      "source": [
        "class AnswerWithCitations(BaseModel):\n",
        "    answer: str = Field(\n",
        "        description=\"引用付きのユーザーの質問に対する包括的な回答\",\n",
        "    )\n",
        "    cited_urls: List[str] = Field(\n",
        "        description=\"回答で引用したURLのリスト\",\n",
        "    )\n",
        "\n",
        "    @property\n",
        "    def as_str(self) -> str:\n",
        "        return f\"{self.answer}\\n\\n参考文献：\\n\\n\" + \"\\n\".join(\n",
        "            f\"[{i+1}]: {url}\" for i, url in enumerate(self.cited_urls)\n",
        "        )\n",
        "\n",
        "\n",
        "gen_answer_prompt = ChatPromptTemplate.from_messages(\n",
        "    [\n",
        "        (\n",
        "            \"system\",\n",
        "            \"\"\"あなたは情報を効果的に使用できる専門家です。あなたの知るトピックについてWikipediaページを書きたいと考えているWikipedia編集者とチャットしています。関連情報を収集しており、これからその情報を使用して回答を作成します。\n",
        "できるだけ情報量の多い回答を心がけ、すべての文章が収集した情報によって裏付けられていることを確認してください。\n",
        "各回答は信頼できる情報源からの引用で裏付けられている必要があり、脚注として形式を整え、回答の後にURLを再掲してください。\"\"\",\n",
        "        ),\n",
        "        MessagesPlaceholder(variable_name=\"messages\", optional=True),\n",
        "    ]\n",
        ")\n",
        "\n",
        "gen_answer_chain = gen_answer_prompt | long_context_llm.with_structured_output(\n",
        "    AnswerWithCitations, include_raw=True\n",
        ").with_config(run_name=\"GenerateAnswer\")"
      ]
    },
    {
      "cell_type": "code",
      "source": [
        "import os\n",
        "import requests\n",
        "from typing import List, Dict\n",
        "from langchain_core.tools import tool\n",
        "\n",
        "class OpenAlexSearchAPIWrapper:\n",
        "    \"\"\"Wrapper for OpenAlex API.\"\"\"\n",
        "    def __init__(self, openalex_email: str = None):\n",
        "        self.openalex_email = openalex_email or os.getenv(\"OPENALEX_EMAIL\")\n",
        "\n",
        "    def _ddgs_text(self, query: str) -> List[Dict]:\n",
        "        \"\"\"Method named to match DuckDuckGo wrapper pattern.\"\"\"\n",
        "        headers = {'User-Agent': f'mailto:{self.openalex_email}'}\n",
        "        url = \"https://api.openalex.org/works\"\n",
        "        params = {\n",
        "            \"search\": str(query),\n",
        "            \"per-page\": 10,\n",
        "            \"page\": 1,\n",
        "            \"sort\": \"relevance_score:desc\",\n",
        "            \"select\": \"id,display_name,publication_year,abstract_inverted_index,doi,primary_location\"\n",
        "        }\n",
        "\n",
        "        response = requests.get(url, params=params, headers=headers)\n",
        "\n",
        "        if response.status_code == 200:\n",
        "            data = response.json()\n",
        "            results = []\n",
        "            for work in data.get('results', []):\n",
        "                if not work:\n",
        "                    continue\n",
        "\n",
        "                abstract = \"\"\n",
        "                if abstract_index := work.get('abstract_inverted_index'):\n",
        "                    word_positions = {pos: word for word, positions in abstract_index.items() for pos in positions}\n",
        "                    abstract = \" \".join(word_positions[i] for i in sorted(word_positions.keys()))\n",
        "\n",
        "                url = None\n",
        "                if work.get('doi'):\n",
        "                    url = f\"https://doi.org/{work['doi'].replace('https://doi.org/', '')}\"\n",
        "                elif work.get('primary_location', {}).get('doi'):\n",
        "                    url = f\"https://doi.org/{work['primary_location']['doi']}\"\n",
        "                elif work.get('id'):\n",
        "                    work_id = work['id'].replace('https://openalex.org/', '')\n",
        "                    url = f\"https://openalex.org/{work_id}\"\n",
        "\n",
        "                if url:\n",
        "                    results.append({\n",
        "                        \"content\": f\"Title: {work.get('display_name', '')}\\nAbstract: {abstract}\",\n",
        "                        \"url\": url\n",
        "                    })\n",
        "            return results\n",
        "        return []\n",
        "\n",
        "# Initialize the search engine\n",
        "search_engine = OpenAlexSearchAPIWrapper()\n",
        "\n",
        "@tool\n",
        "async def search_engine(query: str):\n",
        "    \"\"\"Search engine for scholarly works.\"\"\"\n",
        "    results = OpenAlexSearchAPIWrapper()._ddgs_text(query)\n",
        "    return results"
      ],
      "metadata": {
        "id": "byfplNS5Qs1A"
      },
      "execution_count": null,
      "outputs": []
    },
    {
      "cell_type": "code",
      "source": [
        "# # For testing in Jupyter/IPython notebook\n",
        "# import nest_asyncio\n",
        "# from langchain_core.callbacks import BaseCallbackManager\n",
        "# from langchain_core.runnables import RunnableConfig  # Changed this import\n",
        "# import asyncio\n",
        "# from typing import Optional\n",
        "\n",
        "# nest_asyncio.apply()\n",
        "\n",
        "# async def test_search():\n",
        "#     query = \"Long context LLM patents\"\n",
        "\n",
        "#     # Create a config dictionary with None callback manager\n",
        "#     config: Optional[RunnableConfig] = None\n",
        "\n",
        "#     # Pass config to _arun\n",
        "#     results = await search_engine._arun(query, config=config)\n",
        "\n",
        "#     # Print results - updated to match the search_engine return structure\n",
        "#     for idx, result in enumerate(results, 1):\n",
        "#         print(f\"\\nResult {idx}:\")\n",
        "#         print(f\"Content: {result['content']}\")  # Changed from 'body' to 'content'\n",
        "#         print(f\"URL: {result['url']}\")  # Changed from 'href' to 'url'\n",
        "\n",
        "# # Run in notebook\n",
        "# await test_search()"
      ],
      "metadata": {
        "id": "rrwrdh0qDbX4"
      },
      "execution_count": null,
      "outputs": []
    },
    {
      "cell_type": "code",
      "execution_count": null,
      "metadata": {
        "id": "dpScJ1wCFi8_"
      },
      "outputs": [],
      "source": [
        "import json\n",
        "\n",
        "from langchain_core.runnables import RunnableConfig\n",
        "\n",
        "\n",
        "async def gen_answer(\n",
        "    state: InterviewState,\n",
        "    config: Optional[RunnableConfig] = None,\n",
        "    name: str = \"Subject_Matter_Expert\",\n",
        "    max_str_len: int = 15000,\n",
        "):\n",
        "    swapped_state = swap_roles(state, name)  # Convert all other AI messages\n",
        "    queries = await gen_queries_chain.ainvoke(swapped_state)\n",
        "    query_results = await search_engine.abatch(\n",
        "        queries[\"parsed\"].queries, config, return_exceptions=True\n",
        "    )\n",
        "    successful_results = [\n",
        "        res for res in query_results if not isinstance(res, Exception)\n",
        "    ]\n",
        "    all_query_results = {\n",
        "        res[\"url\"]: res[\"content\"] for results in successful_results for res in results\n",
        "    }\n",
        "    # We could be more precise about handling max token length if we wanted to here\n",
        "    dumped = json.dumps(all_query_results)[:max_str_len]\n",
        "    search_message = HumanMessage(content=dumped)\n",
        "    swapped_state[\"messages\"].extend([queries[\"raw\"], search_message])\n",
        "    # Only update the shared state with the final answer to avoid\n",
        "    # polluting the dialogue history with intermediate messages\n",
        "    generated = await gen_answer_chain.ainvoke(swapped_state)\n",
        "    cited_urls = set(generated[\"parsed\"].cited_urls)\n",
        "    # Save the retrieved information to a the shared state for future reference\n",
        "    cited_references = {k: v for k, v in all_query_results.items() if k in cited_urls}\n",
        "    formatted_message = AIMessage(name=name, content=generated[\"parsed\"].as_str)\n",
        "    return {\"messages\": [formatted_message], \"references\": cited_references}"
      ]
    },
    {
      "cell_type": "code",
      "execution_count": null,
      "metadata": {
        "id": "K5e-LBrJFi8_",
        "colab": {
          "base_uri": "https://localhost:8080/",
          "height": 214
        },
        "outputId": "613b095b-c286-494a-e9ec-625c6d5fd921"
      },
      "outputs": [
        {
          "output_type": "execute_result",
          "data": {
            "text/plain": [
              "'今後5年から10年にかけて、エクソソーム研究はがん治療・診断だけでなく、再生医療や希少疾患に対する革新的治療法の新規開発など、より幅広い応用へと展開していくと考えられています[1]。以下のような分野の発展が特に大きな注目を集めると予想されます：\\n\\n1. 標準化された手法の確立：\\nエクソソームを分離・純化し、機能や由来細胞を正確に特定する標準化されたプロトコルの確立が進むと期待されています。現在、エクソソームの回収方法には超遠心法、サイズ排除クロマトグラフィー、免疫親和法など複数のアプローチがあり、それぞれにメリットとデメリットがあります。これらの方法を比較検討し、臨床応用で通用するよう十分に再現性を検証した手法が広まることにより、研究成果の再現性向上と臨床利用の促進が見込まれます[2][3]。\\n\\n2. バイオマーカーとしての活用：\\n液体生検の一環として、血液や体液中のエクソソームを解析し、がんなどの早期診断へ活用する研究がより盛んになるでしょう。エクソソームにはマイクロRNAやタンパク質、DNA断片など多種多様な情報が含まれており、診断精度の向上や疾患特異的マーカーの同定につながると期待されています[4]。\\n\\n3. 遺伝子治療やドラッグデリバリーへの応用：\\nエクソソームは細胞由来の小胞であるため、生体適合性が高く免疫原性が低いことなどの特徴をもちます。新薬や遺伝子治療を送達するベクターとしての利用は今後さらに拡大し、がん治療、神経変性疾患、自己免疫疾患などの治療開発のプラットフォームとなる可能性があります[5][6]。\\n\\n4. 工学的改変による機能強化：\\n特定の細胞や組織を標的としたエクソソームの送達効率向上のため、エクソソームの膜タンパク質や内部 cargo を遺伝子工学的に改変する研究が加速していくと考えられます。例えば、特定の受容体への特異的結合を高めるタンパク質をエクソソーム表面に導入する技術などが既に報告されており、今後さらに高度化が進むでしょう[7]。\\n\\n5. 生産プラットフォームの拡充と品質管理：\\nエクソソームを大規模かつ高品質に生産する技術や、最終製剤の品質管理技術の確立も重要な課題です。培養条件の最適化や工場レベルでの生産技術を確立することで製品化に向けた道筋が整備され、より多くの臨床アプリケーションへ展開されると期待されます[2][8]。\\n\\nこれらの研究分野の進展によって、エクソソームは単なる細胞間コミュニケーションのメッセンジャーではなく、広範な疾患における画期的な治療と診断技術の基盤として機能するようになると考えられます。今後の5年から10年間で、基礎研究と臨床応用の橋渡しが加速し、エクソソームの実用化に向けた取り組みが世界的に拡大していくでしょう。\\n\\n参考文献：\\n\\n[1]: https://www.science.org/doi/10.1126/science.aau6977\\n[2]: https://www.ncbi.nlm.nih.gov/pmc/articles/PMC6134734/\\n[3]: https://pubmed.ncbi.nlm.nih.gov/30207412/\\n[4]: https://www.nature.com/articles/s41571-019-0248-5\\n[5]: https://www.ncbi.nlm.nih.gov/pmc/articles/PMC6618053/\\n[6]: https://www.ncbi.nlm.nih.gov/pmc/articles/PMC8823286/\\n[7]: https://pubmed.ncbi.nlm.nih.gov/29453319/\\n[8]: https://www.sciencedirect.com/science/article/pii/S0142961222001623'"
            ],
            "application/vnd.google.colaboratory.intrinsic+json": {
              "type": "string"
            }
          },
          "metadata": {},
          "execution_count": 22
        }
      ],
      "source": [
        "example_answer = await gen_answer(\n",
        "    {\"messages\": [HumanMessage(content=question[\"messages\"][0].content)]}\n",
        ")\n",
        "example_answer[\"messages\"][-1].content"
      ]
    },
    {
      "cell_type": "markdown",
      "metadata": {
        "id": "D-upe6SLFi8_"
      },
      "source": [
        "#### Construct the Interview Graph\n",
        "\n",
        "\n",
        "Now that we've defined the editor and domain expert, we can compose them in a graph."
      ]
    },
    {
      "cell_type": "code",
      "execution_count": null,
      "metadata": {
        "id": "dKE_jFUCFi9A"
      },
      "outputs": [],
      "source": [
        "max_num_turns = 5\n",
        "from langgraph.pregel import RetryPolicy\n",
        "\n",
        "\n",
        "def route_messages(state: InterviewState, name: str = \"Subject_Matter_Expert\"):\n",
        "    messages = state[\"messages\"]\n",
        "    num_responses = len(\n",
        "        [m for m in messages if isinstance(m, AIMessage) and m.name == name]\n",
        "    )\n",
        "    if num_responses >= max_num_turns:\n",
        "        return END\n",
        "    last_question = messages[-2]\n",
        "    if last_question.content.endswith(\"ご協力ありがとうございました！\"):\n",
        "        return END\n",
        "    return \"ask_question\"\n",
        "\n",
        "\n",
        "builder = StateGraph(InterviewState)\n",
        "\n",
        "builder.add_node(\"ask_question\", generate_question, retry=RetryPolicy(max_attempts=5))\n",
        "builder.add_node(\"answer_question\", gen_answer, retry=RetryPolicy(max_attempts=5))\n",
        "builder.add_conditional_edges(\"answer_question\", route_messages)\n",
        "builder.add_edge(\"ask_question\", \"answer_question\")\n",
        "\n",
        "builder.add_edge(START, \"ask_question\")\n",
        "interview_graph = builder.compile(checkpointer=False).with_config(\n",
        "    run_name=\"Conduct Interviews\"\n",
        ")"
      ]
    },
    {
      "cell_type": "code",
      "execution_count": null,
      "metadata": {
        "id": "zWzLvkTvFi9A",
        "colab": {
          "base_uri": "https://localhost:8080/",
          "height": 350
        },
        "outputId": "51a386f7-709f-4e72-89d3-e5b511ef363b"
      },
      "outputs": [
        {
          "output_type": "display_data",
          "data": {
            "image/png": "[encoded data removed]",
            "text/plain": [
              "<IPython.core.display.Image object>"
            ]
          },
          "metadata": {}
        }
      ],
      "source": [
        "from IPython.display import Image, display\n",
        "\n",
        "try:\n",
        "    display(Image(interview_graph.get_graph().draw_mermaid_png()))\n",
        "except Exception:\n",
        "    # This requires some extra dependencies and is optional\n",
        "    pass"
      ]
    },
    {
      "cell_type": "code",
      "execution_count": null,
      "metadata": {
        "id": "EY4O-YNSFi9A",
        "colab": {
          "base_uri": "https://localhost:8080/"
        },
        "outputId": "04ac467b-95ff-4c66-b5ed-3351520acef6"
      },
      "outputs": [
        {
          "output_type": "stream",
          "name": "stderr",
          "text": [
            "<ipython-input-14-4447ab4b0c39>:32: PydanticDeprecatedSince20: The `dict` method is deprecated; use `model_dump` instead. Deprecated in Pydantic V2.0 to be removed in V3.0. See Pydantic V2 Migration Guide at https://errors.pydantic.dev/2.10/migration/\n",
            "  message = HumanMessage(**message.dict(exclude={\"type\"}))\n"
          ]
        },
        {
          "output_type": "stream",
          "name": "stdout",
          "text": [
            "ask_question\n",
            "--  [AIMessage(content='はい、エクソソームの最新研究動向をまとめたいと考えています。そこでまず、現在注目されているエクソソームの分離・解析技術にはどのような新しいものがありますか？', additional_kwargs={'refusal': None}, response_metadata={'token_usage': {'completion_tokens': 894, 'prompt_tokens': 291, 'total_tokens': 1185, 'completion_tokens_details': {'accepted_prediction_tokens\n"
          ]
        },
        {
          "output_type": "stream",
          "name": "stderr",
          "text": [
            "<ipython-input-14-4447ab4b0c39>:32: PydanticDeprecatedSince20: The `dict` method is deprecated; use `model_dump` instead. Deprecated in Pydantic V2.0 to be removed in V3.0. See Pydantic V2 Migration Guide at https://errors.pydantic.dev/2.10/migration/\n",
            "  message = HumanMessage(**message.dict(exclude={\"type\"}))\n"
          ]
        },
        {
          "output_type": "stream",
          "name": "stdout",
          "text": [
            "answer_question\n",
            "--  [AIMessage(content='近年、エクソソーム分離・解析技術としては従来から使われてきた超遠心法や沈降試薬法などに加えて、微小流体デバイスを用いたラベルフリーの分離方法やアコースティック（音響）技術を組み合わせた手法など、より高効率・高純度なアプローチが注目されています[8,10]。特に微小流体技術では、巨大な血球やタンパク質との分離をリアルタイムかつ少量サンプルで行えるため、迅速・省サンプルの分離が可能になります[10]。アコースティック技術を応用した手法は、ラベルを使用せず試料をほぼそのまま分離できることに加え、生体由来のエクソソームを構造損失なく得やすいという利点が報告されて\n"
          ]
        },
        {
          "output_type": "stream",
          "name": "stderr",
          "text": [
            "<ipython-input-14-4447ab4b0c39>:32: PydanticDeprecatedSince20: The `dict` method is deprecated; use `model_dump` instead. Deprecated in Pydantic V2.0 to be removed in V3.0. See Pydantic V2 Migration Guide at https://errors.pydantic.dev/2.10/migration/\n",
            "  message = HumanMessage(**message.dict(exclude={\"type\"}))\n"
          ]
        },
        {
          "output_type": "stream",
          "name": "stdout",
          "text": [
            "ask_question\n",
            "--  [AIMessage(content='エクソソームの臨床応用に向けた研究として、特に注目すべき分野や、課題となっているポイントにはどのようなものがありますか？', additional_kwargs={'refusal': None}, response_metadata={'token_usage': {'completion_tokens': 696, 'prompt_tokens': 1052, 'total_tokens': 1748, 'completion_tokens_details': {'accepted_prediction_tokens': 0, 'audio_toke\n"
          ]
        },
        {
          "output_type": "stream",
          "name": "stderr",
          "text": [
            "<ipython-input-14-4447ab4b0c39>:32: PydanticDeprecatedSince20: The `dict` method is deprecated; use `model_dump` instead. Deprecated in Pydantic V2.0 to be removed in V3.0. See Pydantic V2 Migration Guide at https://errors.pydantic.dev/2.10/migration/\n",
            "  message = HumanMessage(**message.dict(exclude={\"type\"}))\n"
          ]
        },
        {
          "output_type": "stream",
          "name": "stdout",
          "text": [
            "answer_question\n",
            "--  [AIMessage(content='エクソソームの臨床応用に向けた研究は、多くの領域で進展が期待されています。特にがん診療の分野では、腫瘍由来のエクソソームがリキッドバイオプシーにおける有望な分子マーカーとして注目されており、早期診断や治療効果のモニタリング、再発リスクの評価に向けて利用が検討されています[1][2]。がんの診断やサブタイプの特定などにおいて、従来の組織生検では困難だった腫瘍の空間的・時間的な不均一性を捉えやすい点が大きな利点です[2]。\\n\\n一方、課題としては以下のようなポイントが挙げられます：\\n\\n1. 標準化と再現性の確立\\n   エクソソームの分離・精製法が多数\n"
          ]
        },
        {
          "output_type": "stream",
          "name": "stderr",
          "text": [
            "<ipython-input-14-4447ab4b0c39>:32: PydanticDeprecatedSince20: The `dict` method is deprecated; use `model_dump` instead. Deprecated in Pydantic V2.0 to be removed in V3.0. See Pydantic V2 Migration Guide at https://errors.pydantic.dev/2.10/migration/\n",
            "  message = HumanMessage(**message.dict(exclude={\"type\"}))\n"
          ]
        },
        {
          "output_type": "stream",
          "name": "stdout",
          "text": [
            "ask_question\n",
            "--  [AIMessage(content='再生医療の観点から、エクソソームを利用した組織修復や細胞機能促進への応用はどのように進展しており、特にどのような技術的・安全性面の課題が残っているのでしょうか？', additional_kwargs={'refusal': None}, response_metadata={'token_usage': {'completion_tokens': 717, 'prompt_tokens': 2002, 'total_tokens': 2719, 'completion_tokens_details': {'accepted_prediction_tok\n"
          ]
        },
        {
          "output_type": "stream",
          "name": "stderr",
          "text": [
            "<ipython-input-14-4447ab4b0c39>:32: PydanticDeprecatedSince20: The `dict` method is deprecated; use `model_dump` instead. Deprecated in Pydantic V2.0 to be removed in V3.0. See Pydantic V2 Migration Guide at https://errors.pydantic.dev/2.10/migration/\n",
            "  message = HumanMessage(**message.dict(exclude={\"type\"}))\n"
          ]
        },
        {
          "output_type": "stream",
          "name": "stdout",
          "text": [
            "answer_question\n",
            "--  [AIMessage(content='再生医療の文脈においてエクソソームは、細胞が分泌する微小な小胞として、細胞間シグナル伝達や組織修復プロセスへ積極的に関与する点が期待されています。特に間葉系幹細胞（Mesenchymal Stem Cells: MSCs）由来のエクソソームが、炎症抑制や組織再生を促すさまざまなタンパク質・RNAを内包していることから、多領域にわたって研究が進められています[1][3]。\\\\n\\\\n■エクソソームを用いた組織修復・細胞機能促進の主な応用例\\\\n1）創傷治癒・軟骨再生：MSCs由来エクソソームを用いることで、創部の炎症を制御しながら血管新生や線維芽細胞の増殖\n"
          ]
        },
        {
          "output_type": "stream",
          "name": "stderr",
          "text": [
            "<ipython-input-14-4447ab4b0c39>:32: PydanticDeprecatedSince20: The `dict` method is deprecated; use `model_dump` instead. Deprecated in Pydantic V2.0 to be removed in V3.0. See Pydantic V2 Migration Guide at https://errors.pydantic.dev/2.10/migration/\n",
            "  message = HumanMessage(**message.dict(exclude={\"type\"}))\n"
          ]
        },
        {
          "output_type": "stream",
          "name": "stdout",
          "text": [
            "ask_question\n",
            "--  [AIMessage(content='エクソソームが標的細胞へ取り込まれるメカニズムや、それによって細胞間コミュニケーションがどのように調整されるのかという点について、新たに注目されている知見やモデルはありますか？', additional_kwargs={'refusal': None}, response_metadata={'token_usage': {'completion_tokens': 648, 'prompt_tokens': 3413, 'total_tokens': 4061, 'completion_tokens_details': {'accepted_predic\n"
          ]
        },
        {
          "output_type": "stream",
          "name": "stderr",
          "text": [
            "<ipython-input-14-4447ab4b0c39>:32: PydanticDeprecatedSince20: The `dict` method is deprecated; use `model_dump` instead. Deprecated in Pydantic V2.0 to be removed in V3.0. See Pydantic V2 Migration Guide at https://errors.pydantic.dev/2.10/migration/\n",
            "  message = HumanMessage(**message.dict(exclude={\"type\"}))\n"
          ]
        },
        {
          "output_type": "stream",
          "name": "stdout",
          "text": [
            "answer_question\n",
            "--  [AIMessage(content='エクソソームが標的細胞に取り込まれるメカニズムは多様で、主にリガンド–受容体相互作用やエンドサイトーシス、膜融合など複数の経路が関与すると考えられています[1][2]。エクソソーム表面にはコレステロールやホスファチジルセリン、テトラスパニン（CD9, CD63, CD81 など）といった特徴的な分子が多数存在し、ターゲット細胞の膜上にある特定の受容体や糖タンパク質と結合することで結合から細胞内取り込みが起こると報告されています[1][3]。また、膜融合型の取り込みではエクソソームの脂質二重膜が標的細胞膜と直接融合し、中の内容物（タンパク質、mRNA、mi\n"
          ]
        }
      ],
      "source": [
        "final_step = None\n",
        "\n",
        "initial_state = {\n",
        "    \"editor\": perspectives.editors[0],\n",
        "    \"messages\": [\n",
        "        AIMessage(\n",
        "            content=f\"では、{example_topic}について記事を書いているとおっしゃっていましたか？\",\n",
        "            name=\"Subject_Matter_Expert\",\n",
        "        )\n",
        "    ],\n",
        "}\n",
        "async for step in interview_graph.astream(initial_state):\n",
        "    name = next(iter(step))\n",
        "    print(name)\n",
        "    print(\"-- \", str(step[name][\"messages\"])[:300])\n",
        "final_step = step"
      ]
    },
    {
      "cell_type": "code",
      "execution_count": null,
      "metadata": {
        "id": "IxrIWNziFi9A"
      },
      "outputs": [],
      "source": [
        "final_state = next(iter(final_step.values()))"
      ]
    },
    {
      "cell_type": "markdown",
      "metadata": {
        "id": "sU9zpbEvFi9A"
      },
      "source": [
        "## Refine Outline\n",
        "\n",
        "At this point in STORM, we've conducted a large amount of research from different perspectives. It's time to refine the original outline based on these investigations. Below, create a chain using the LLM with a long context window to update the original outline."
      ]
    },
    {
      "cell_type": "code",
      "execution_count": null,
      "metadata": {
        "id": "CV_vUbDLFi9A"
      },
      "outputs": [],
      "source": [
        "refine_outline_prompt = ChatPromptTemplate.from_messages(\n",
        "    [\n",
        "        (\n",
        "            \"system\",\n",
        "            \"\"\"あなたはWikipedia編集者です。専門家や検索エンジンから情報を収集しました。これから、Wikipediaページの概要を改善します。\n",
        "概要が包括的かつ具体的であることを確認してください。\n",
        "執筆するトピック: {topic}\n",
        "以前の概要:\n",
        "{old_outline}\"\"\",\n",
        "        ),\n",
        "        (\n",
        "            \"user\",\n",
        "            \"専門家との会話に基づいて概要を改善してください：\\n\\n会話内容：\\n\\n{conversations}\\n\\n改善されたWikipediaの概要を作成してください：\",\n",
        "        ),\n",
        "    ]\n",
        ")\n",
        "\n",
        "# Using turbo preview since the context can get quite long\n",
        "refine_outline_chain = refine_outline_prompt | long_context_llm.with_structured_output(\n",
        "    Outline\n",
        ")"
      ]
    },
    {
      "cell_type": "code",
      "execution_count": null,
      "metadata": {
        "id": "pHyZ9YFbFi9A"
      },
      "outputs": [],
      "source": [
        "refined_outline = refine_outline_chain.invoke(\n",
        "    {\n",
        "        \"topic\": example_topic,\n",
        "        \"old_outline\": initial_outline.as_str,\n",
        "        \"conversations\": \"\\n\\n\".join(\n",
        "            f\"### {m.name}\\n\\n{m.content}\" for m in final_state[\"messages\"]\n",
        "        ),\n",
        "    }\n",
        ")"
      ]
    },
    {
      "cell_type": "code",
      "execution_count": null,
      "metadata": {
        "id": "4ZTcKZ2DFi9D",
        "colab": {
          "base_uri": "https://localhost:8080/"
        },
        "outputId": "d7dc2537-059f-453c-add4-fcd516efa9c6"
      },
      "outputs": [
        {
          "output_type": "stream",
          "name": "stdout",
          "text": [
            "# エクソソーム研究のトレンド\n",
            "\n",
            "## 概要\n",
            "\n",
            "エクソソームは細胞が放出する直径30～150nm程度の膜小胞で、タンパク質・脂質・核酸など多様な生体分子を内包する。かつては不要物質の排出経路とみなされていたが、細胞間情報伝達に重要な役割を担うことが判明し、多くの研究が急速に進展した。近年ではがん、再生医療、神経変性疾患など広範な分野で注目されており、バイオマーカーやドラッグデリバリーシステム（DDS）としての応用研究も活発化している。\n",
            "\n",
            "### エクソソームの機能と特性\n",
            "\n",
            "エクソソームは細胞間コミュニケーションを媒介し、免疫制御や組織リモデリングなど多段階の生理・病理プロセスに関与する。表面にはテトラスパニン（CD9・CD63・CD81など）やホスファチジルセリン、コレステロールなど特徴的な分子を多く含み、これらの分子が受容体との相互作用により標的細胞へ特異的に結合・取り込みを促す。また内部にはmRNAやmiRNAなどの核酸も含まれており、遺伝子発現制御に寄与する。\n",
            "\n",
            "## エクソソームの取り込みと細胞間コミュニケーション\n",
            "\n",
            "エクソソームが標的細胞に取り込まれるメカニズムは、リガンド–受容体相互作用やエンドサイトーシス、膜融合など複数の経路によって進行すると考えられている[1][2]。エクソソームの表面に存在するテトラスパニンやリガンド分子がターゲット細胞上の受容体や糖タンパク質と結合することによって結合や取り込みが促進されるほか、膜融合によってエクソソーム内部の核酸やタンパク質が直接細胞質に放出され、細胞機能や遺伝子発現を変化させる。エクソソームが免疫応答の調整やがん転移の促進など、多様な生理機能の制御に関わることが報告されており、細胞間ネットワークの調整役としての役割が注目されている[2][3][4]。\n",
            "\n",
            "### がん領域における新たなモデル\n",
            "\n",
            "がん転移では、エクソソームが転移先の微小環境を“プログラミング”することで、腫瘍細胞の生存や定着を助けるメカニズムが示唆されている[4]。この過程でエクソソームは免疫細胞や間質細胞へ情報を伝えるメッセンジャーとして機能し、がんの増殖や転移能、薬剤抵抗性を高めるプロセスに寄与するとされる。\n",
            "\n",
            "## 研究の歴史\n",
            "\n",
            "エクソソーム研究は1980年代に細胞外小胞としての存在が報告されて以来、細胞老廃物の排出機構と考えられていたが、1990年代以降、先端的な解析技術の発展を背景に細胞間情報伝達への中心的な関与が明らかになった。2000年代になると多角的オミクス解析や高度な分離・精製技術の普及によって研究スピードが加速し、免疫やがん、神経変性疾患など幅広い分野において、エクソソームが果たす機能が注目されるようになった。\n",
            "\n",
            "## 解析技術の進歩\n",
            "\n",
            "エクソソーム研究を支える技術革新は、分離・精製技術の高度化とオミクス解析の進展が大きな柱となっている。\n",
            "\n",
            "### 分離・精製方法の多様化\n",
            "\n",
            "超遠心法、サイズ排除クロマトグラフィー、イムノアフィニティ法など、高純度で高収量のエクソソームを取得する手法が研究され、マイクロ流体デバイスを用いた高速・高精度の分離技術も提案されている。これらの改良により、エクソソームの大量生産および品質管理への道筋が模索されている。\n",
            "\n",
            "### 多角的オミクス解析\n",
            "\n",
            "次世代シーケンサー（NGS）を用いたトランスクリプトーム解析やプロテオーム・メタボローム解析など、包括的な視点からエクソソーム内包分子を解析する研究が一般化している。こうした手法により、疾患特異的なmicroRNAやタンパク質などを正確にスクリーニングし、バイオマーカーや治療標的を見出す機運が高まっている。\n",
            "\n",
            "## 応用研究と今後の方向性\n",
            "\n",
            "エクソソームやそれを模倣した人工小胞は、診断や創薬、ドラッグデリバリーなど多様な応用に向けて期待が集まっている。\n",
            "\n",
            "### バイオマーカー開発\n",
            "\n",
            "血液や体液中を流れるエクソソームに含まれるmiRNAやタンパク質を検出することで、がんや神経変性疾患などの早期診断を目指す研究が進展している。非侵襲的な検査手法として実用化が注目される。\n",
            "\n",
            "### ドラッグデリバリーシステムへの応用\n",
            "\n",
            "エクソソームは生体由来で免疫原性が低く、細胞特異的な取り込みを促す性質を持つため、DDSとしての応用が盛んに検討されている。近年はエクソソーム表面の改変技術が進展しており、リガンドペプチドを付与することで特定の細胞や組織へ選択的に結合させる研究が活発化している[1]。こうした取り組みにより、がんや難治性疾患に対する新規治療法の開発が期待される。\n",
            "\n",
            "### 課題と標準化の重要性\n",
            "\n",
            "エクソソームと他の細胞外小胞（マイクロベジクルなど）との厳密な区別や、分離法の標準化は未だ発展途上にある。また、工業的な大量生産や品質管理の面でも課題が多く、安全性・有効性を担保するための規制と技術の整合が不可欠とされる。今後は分子プロファイリングや改変技術のさらなる向上、世界的な枠組みでの定義づけ・標準化の取り組みが見込まれる。\n"
          ]
        }
      ],
      "source": [
        "print(refined_outline.as_str)"
      ]
    },
    {
      "cell_type": "markdown",
      "metadata": {
        "id": "82Q_Hl2UFi9D"
      },
      "source": [
        "## Generate Article\n",
        "\n",
        "Now it's time to generate the full article. We will first divide-and-conquer, so that each section can be tackled by an individual llm. Then we will prompt the long-form LLM to refine the finished article (since each section may use an inconsistent voice).\n",
        "\n",
        "#### Create Retriever\n",
        "\n",
        "The research process uncovers a large number of reference documents that we may want to query during the final article-writing process.\n",
        "\n",
        "First, create the retriever:"
      ]
    },
    {
      "cell_type": "code",
      "execution_count": null,
      "metadata": {
        "id": "ofugY0fLFi9D"
      },
      "outputs": [],
      "source": [
        "from langchain_community.vectorstores import InMemoryVectorStore\n",
        "from langchain_core.documents import Document\n",
        "from langchain_openai import OpenAIEmbeddings\n",
        "\n",
        "embeddings = OpenAIEmbeddings(\n",
        "    openai_api_base=base_url,\n",
        "    openai_api_key=api_key,\n",
        "    model=\"openai.text-embedding-3-large\")\n",
        "reference_docs = [\n",
        "    Document(page_content=v, metadata={\"source\": k})\n",
        "    for k, v in final_state[\"references\"].items()\n",
        "]\n",
        "# This really doesn't need to be a vectorstore for this size of data.\n",
        "# It could just be a numpy matrix. Or you could store documents\n",
        "# across requests if you want.\n",
        "vectorstore = InMemoryVectorStore.from_documents(\n",
        "    reference_docs,\n",
        "    embedding=embeddings,\n",
        ")\n",
        "retriever = vectorstore.as_retriever(k=3)"
      ]
    },
    {
      "cell_type": "code",
      "execution_count": null,
      "metadata": {
        "id": "WkANiHFOFi9E",
        "colab": {
          "base_uri": "https://localhost:8080/"
        },
        "outputId": "70bc27bb-10d6-46a0-f2b7-e4f6f022b8bc"
      },
      "outputs": [
        {
          "output_type": "execute_result",
          "data": {
            "text/plain": [
              "[Document(id='e315820c-6d91-47ee-9c57-79e44115e33d', metadata={'source': 'https://doi.org/10.3390/bios11120518'}, page_content='Title: Exosomes as Powerful Engines in Cancer: Isolation, Characterization and Detection Techniques\\nAbstract: Exosomes, powerful extracellular nanovesicles released from almost all types of living cells, are considered the communication engines (messengers) that control and reprogram physiological pathways inside target cells within a community or between different communities. The cell-like structure of these extracellular vesicles provides a protective environment for their proteins and DNA/RNA cargos, which serve as biomarkers for many malicious diseases, including infectious diseases and cancers. Cancer-derived exosomes control cancer metastasis, prognosis, and development. In addition to the unique structure of exosomes, their nanometer size and tendency of interacting with cells makes them a viable novel drug delivery solution. In recent years, numerous research efforts have been made to quantify and characterize disease-derived exosomes for diagnosis, monitoring, and therapeutic purposes. This review aims to (1) relate exosome biomarkers to their origins, (2) focus on current isolation and detection methods, (3) discuss and evaluate the proposed technologies deriving from exosome research for cancer treatment, and (4) form a conclusion about the prospects of the current exosome research.'),\n",
              " Document(id='249da6b2-2913-4e06-8c16-66bd6a9dbdb9', metadata={'source': 'https://doi.org/10.3390/pharmaceutics10040218'}, page_content='Title: Exosomes and Exosome-Inspired Vesicles for Targeted Drug Delivery\\nAbstract: The similarities between exosomes and liposomes, together with the high organotropism of several types of exosomes, have recently prompted the development of engineered-exosomes or exosome-mimetics, which may be artificial (liposomal) or cell-derived vesicles, as advanced platforms for targeted drug delivery. Here, we provide the current state-of-the-art of using exosome or exosome-inspired systems for drug delivery. We review the various approaches investigated and the shortcomings of each approach. Finally the challenges which have been identified to date in this field are summarized.'),\n",
              " Document(id='b313f7e3-f3ac-4f6e-9d10-2cb1cab26a65', metadata={'source': 'https://doi.org/10.20944/preprints201810.0507.v1'}, page_content='Title: Exosomes and Exosome-Inspired Vesicles for Targeted Drug Delivery\\nAbstract: The similarities between exosomes and liposomes, together with the high organotropism of several types of exosomes, have recently prompted the development of engineered-exosomes or exosome-mimetics, which may be artificial (liposomal) or cell-derived vesicles, as advanced platforms for targeted drug delivery. Here we provide the current state-of-the-art of using exosome or exosome-inspired systems for drug delivery. We review the various approaches investigated and the shortcomings of each approach. Finally the challenges identified up-to-date in this field are summarized.'),\n",
              " Document(id='232510f6-e1df-4805-abbb-5b04aac277d8', metadata={'source': 'https://doi.org/10.3389/fnmol.2023.1227655'}, page_content='Title: Bacterial extracellular vesicles – brain invaders? A systematic review\\nAbstract: Introduction Knowledge on the human gut microbiota in health and disease continues to rapidly expand. In recent years, changes in the gut microbiota composition have been reported as a part of the pathology in numerous neurodegenerative diseases. Bacterial extracellular vesicles (EVs) have been suggested as a novel mechanism for the crosstalk between the brain and gut microbiota, physiologically connecting the observed changes in the brain to gut microbiota dysbiosis. Methods Publications reporting findings on bacterial EVs passage through the blood–brain barrier were identified in PubMed and Scopus databases. Results The literature search yielded 138 non-duplicate publications, from which 113 records were excluded in title and abstract screening step. From 25 publications subjected to full-text screening, 8 were excluded. The resulting 17 publications were considered for the review. Discussion Bacterial EVs have been described with capability to cross the blood–brain barrier, but the mechanisms behind the crossing remain largely unknown. Importantly, very little data exists in this context on EVs secreted by the human gut microbiota. This systematic review summarizes the present evidence of bacterial EVs crossing the blood–brain barrier and highlights the importance of future research on gut microbiota-derived EVs in the context of gut-brain communication across the blood–brain barrier.')]"
            ]
          },
          "metadata": {},
          "execution_count": 31
        }
      ],
      "source": [
        "retriever.invoke(\"熱や風を使わずに髪を乾かすための革新的な新技術として、今特に注目されているアイテムや方法にはどのようなものがありますか？\")"
      ]
    },
    {
      "cell_type": "markdown",
      "metadata": {
        "id": "xIt9I4s8Fi9E"
      },
      "source": [
        "#### Generate Sections\n",
        "\n",
        "Now you can generate the sections using the indexed docs."
      ]
    },
    {
      "cell_type": "code",
      "execution_count": null,
      "metadata": {
        "id": "Q0aXmgr7Fi9E"
      },
      "outputs": [],
      "source": [
        "class SubSection(BaseModel):\n",
        "    subsection_title: str = Field(..., title=\"小節のタイトル\")\n",
        "    content: str = Field(\n",
        "        ...,\n",
        "        title=\"小節の完全な内容。関連する箇所には [#] の形式で出典を含めてください。\",\n",
        "    )\n",
        "\n",
        "    @property\n",
        "    def as_str(self) -> str:\n",
        "        return f\"### {self.subsection_title}\\n\\n{self.content}\".strip()\n",
        "\n",
        "\n",
        "class WikiSection(BaseModel):\n",
        "    section_title: str = Field(..., title=\"節のタイトル\")\n",
        "    content: str = Field(..., title=\"節の完全な内容\")\n",
        "    subsections: Optional[List[Subsection]] = Field(\n",
        "        default=None,\n",
        "        title=\"Wikipediaページの各小節のタイトルと説明\",\n",
        "    )\n",
        "    citations: List[str] = Field(default_factory=list)\n",
        "\n",
        "    @property\n",
        "    def as_str(self) -> str:\n",
        "        subsections = \"\\n\\n\".join(\n",
        "            subsection.as_str for subsection in self.subsections or []\n",
        "        )\n",
        "        citations = \"\\n\".join([f\" [{i}] {cit}\" for i, cit in enumerate(self.citations)])\n",
        "        return (\n",
        "            f\"## {self.section_title}\\n\\n{self.content}\\n\\n{subsections}\".strip()\n",
        "            + f\"\\n\\n{citations}\".strip()\n",
        "        )\n",
        "\n",
        "\n",
        "section_writer_prompt = ChatPromptTemplate.from_messages(\n",
        "    [\n",
        "        (\n",
        "            \"system\",\n",
        "            \"あなたは熟練したWikipedia編集者です。以下の概要から割り当てられたWikiSectionを完成させてください：\\n\\n\"\n",
        "            \"{outline}\\n\\n以下の参考文献を用いて出典を記載してください：\\n\\n<Documents>\\n{docs}\\n<Documents>\",\n",
        "        ),\n",
        "        (\"user\", \"{section}セクションのWikiSectionを完全に執筆してください。\"),\n",
        "    ]\n",
        ")\n",
        "\n",
        "\n",
        "async def retrieve(inputs: dict):\n",
        "    docs = await retriever.ainvoke(inputs[\"topic\"] + \": \" + inputs[\"section\"])\n",
        "    formatted = \"\\n\".join(\n",
        "        [\n",
        "            f'<Document href=\"{doc.metadata[\"source\"]}\"/>\\n{doc.page_content}\\n</Document>'\n",
        "            for doc in docs\n",
        "        ]\n",
        "    )\n",
        "    return {\"docs\": formatted, **inputs}\n",
        "\n",
        "\n",
        "section_writer = (\n",
        "    retrieve\n",
        "    | section_writer_prompt\n",
        "    | long_context_llm.with_structured_output(WikiSection)\n",
        ")"
      ]
    },
    {
      "cell_type": "code",
      "execution_count": null,
      "metadata": {
        "id": "jxhiUuUlFi9E",
        "colab": {
          "base_uri": "https://localhost:8080/"
        },
        "outputId": "9f8398ba-2a36-4d4d-fcab-c89705b57223"
      },
      "outputs": [
        {
          "output_type": "stream",
          "name": "stdout",
          "text": [
            "## エクソソームの取り込みと細胞間コミュニケーション\n",
            "\n",
            "エクソソームが標的細胞に取り込まれるメカニズムは、リガンド–受容体相互作用やエンドサイトーシス、膜融合など複数の経路によって進行すると考えられている[1][2]。エクソソームの表面に存在するテトラスパニンやリガンド分子は、標的細胞上の受容体や糖タンパク質と結合することで結合や取り込みを促進する一方、膜融合によって内部の核酸やタンパク質を直接細胞質に放出し、細胞機能や遺伝子発現を変化させる。近年の研究では、エクソソームが免疫応答やがん転移の促進といった多様な生理機能の制御に関わることが報告され、細胞間コミュニケーションの重要な調整役として注目されている[2][3][4]。\n",
            "\n",
            "### 取り込みのメカニズム\n",
            "\n",
            "エクソソームは、その表面に存在する膜タンパク質やリガンド分子を介して標的細胞に結合し、エンドサイトーシスや膜融合などの機構で細胞内へと取り込まれる[1][2]。取り込まれたエクソソームが輸送する核酸やタンパク質は、細胞質やエンドソーム内で機能を発揮し、受容細胞のシグナル伝達や遺伝子発現を変化させる。\n",
            "\n",
            "### 細胞間コミュニケーションにおける役割\n",
            "\n",
            "エクソソームはタンパク質・mRNA・miRNAなど多様な分子を運搬し、細胞間ネットワークの調整に関与する[2][3][4]。特にがん細胞由来のエクソソームは、腫瘍周囲の微小環境のプログラミングや免疫細胞への情報伝達を通じて、がんの増殖・転移を促進することが示唆されている[1][3]。また、免疫応答の調節や神経変性疾患など幅広い生理・病理現象に寄与する可能性も指摘されており、細胞間コミュニケーションを解明する上で重要な焦点となっている。[0] https://doi.org/10.3390/bios11120518\n",
            " [1] https://doi.org/10.3389/fnmol.2023.1227655\n",
            " [2] https://doi.org/10.3390/pharmaceutics10040218\n",
            " [3] https://doi.org/10.20944/preprints201810.0507.v1\n"
          ]
        }
      ],
      "source": [
        "section = await section_writer.ainvoke(\n",
        "    {\n",
        "        \"outline\": refined_outline.as_str,\n",
        "        \"section\": refined_outline.sections[1].section_title,\n",
        "        \"topic\": example_topic,\n",
        "    }\n",
        ")\n",
        "print(section.as_str)"
      ]
    },
    {
      "cell_type": "markdown",
      "metadata": {
        "id": "aasrxCx5Fi9E"
      },
      "source": [
        "#### Generate final article\n",
        "\n",
        "Now we can rewrite the draft to appropriately group all the citations and maintain a consistent voice."
      ]
    },
    {
      "cell_type": "code",
      "execution_count": null,
      "metadata": {
        "id": "m0Gi83m3Fi9E"
      },
      "outputs": [],
      "source": [
        "from langchain_core.output_parsers import StrOutputParser\n",
        "\n",
        "writer_prompt = ChatPromptTemplate.from_messages(\n",
        "    [\n",
        "        (\n",
        "            \"system\",\n",
        "            \"\"\"あなたは熟練したWikipedia編集者です。以下のセクション原稿を使用して{topic}に関する完全なWiki記事を執筆してください：\\n\\n\n",
        "            {draft}\\n\\nWikipediaの形式ガイドラインに厳密に従ってください。\"\"\",\n",
        "        ),\n",
        "        (\n",
        "            \"user\",\n",
        "            \"\"\"マークダウン形式で完全なWiki記事を執筆してください。脚注は「[1]」のような形式で表記し、フッターで重複を避けてください。フッターにはURLを含めてください。\"\"\",\n",
        "        ),\n",
        "    ]\n",
        ")\n",
        "\n",
        "writer = writer_prompt | long_context_llm | StrOutputParser()"
      ]
    },
    {
      "cell_type": "code",
      "execution_count": null,
      "metadata": {
        "id": "4W3DHR3-Fi9F",
        "colab": {
          "base_uri": "https://localhost:8080/"
        },
        "outputId": "ee93a0a3-d5d6-4f30-adc0-925245d0788d"
      },
      "outputs": [
        {
          "output_type": "stream",
          "name": "stdout",
          "text": [
            "# エクソソーム\n",
            "\n",
            "**エクソソーム**（英: exosome）とは、真核細胞が分泌する直径30～150 nm程度の小胞であり、細胞間コミュニケーションにおいて重要な役割を果たすと考えられている。エクソソームの内部にはタンパク質、リピッド、mRNA、miRNAなど多様な分子が含まれ、これらを細胞外へと運搬することで、ターゲット細胞に対して遺伝子発現やシグナル伝達の調節を行う。近年はがんの転移促進や免疫応答の制御などへの寄与が示唆され、バイオマーカーや治療ツールとしての利用が期待されている。\n",
            "\n",
            "## 生合成と放出\n",
            "\n",
            "エクソソームは、まず細胞内のエンドソームが多胞体（multivesicular body, MVB）へと成熟し、その内部に形成された小胞が細胞膜と融合して細胞外へ放出されることで生成される。MVBがリソソームと融合した場合には内容物が分解されるが、これが細胞膜に輸送される経路を選択した場合にエクソソームとして分泌される。エクソソームの膜構成や内部に含まれるカargoは、細胞種や生理・病理学的条件によって多様に変化する。\n",
            "\n",
            "## エクソソームの取り込みと細胞間コミュニケーション\n",
            "\n",
            "エクソソームが標的細胞に取り込まれるメカニズムは、リガンド–受容体相互作用やエンドサイトーシス、膜融合など複数の経路によって進行すると考えられている[2][3]。エクソソームの表面に存在するテトラスパニンやリガンド分子は、標的細胞上の受容体や糖タンパク質と結合することで取り込みを促進する一方、膜融合によって内部の核酸やタンパク質を直接細胞質に放出して、細胞機能や遺伝子発現を変化させる。近年の研究では、エクソソームが免疫応答やがん転移の促進といった多様な生理機能の制御に関わることが報告され、細胞間コミュニケーションの重要な調整役として注目されている[3][4][1]。\n",
            "\n",
            "### 取り込みのメカニズム\n",
            "\n",
            "エクソソームは、その表面に存在する膜タンパク質やリガンド分子を介して標的細胞に結合し、エンドサイトーシスや膜融合などの機構で細胞内へと取り込まれる[2][3]。取り込まれたエクソソームが輸送する核酸やタンパク質は細胞質やエンドソーム内で機能を発揮し、受容細胞のシグナル伝達や遺伝子発現を変化させる。\n",
            "\n",
            "### 細胞間コミュニケーションにおける役割\n",
            "\n",
            "エクソソームはタンパク質・mRNA・miRNAなど多様な分子を運搬し、細胞間ネットワークの調整に関与する[3][4][1]。特にがん細胞由来のエクソソームは、腫瘍周囲の微小環境のプログラミングや免疫細胞への情報伝達を通じて、がんの増殖・転移を促進することが示唆されている[2][4]。また、免疫応答の調節や神経変性疾患など幅広い生理・病理現象に寄与する可能性も指摘されており、細胞間コミュニケーションを解明する上で重要な焦点となっている[1]。\n",
            "\n",
            "## 応用研究\n",
            "\n",
            "エクソソームの特性を応用し、さまざまな疾患の診断や治療法の開発が進められている。たとえば、血液や体液中に含まれるエクソソームを解析して腫瘍マーカーとして活用したり、必要な遺伝子や薬物をエクソソームによって標的細胞へ輸送するドラッグデリバリーシステムが提案されている。こうした研究は、がん治療のみならず、神経変性疾患や自己免疫疾患など多岐にわたる領域への応用が期待されている。\n",
            "\n",
            "## 脚注\n",
            "\n",
            "[1] https://doi.org/10.3390/bios11120518  \n",
            "[2] https://doi.org/10.3389/fnmol.2023.1227655  \n",
            "[3] https://doi.org/10.3390/pharmaceutics10040218  \n",
            "[4] https://doi.org/10.20944/preprints201810.0507.v1  \n"
          ]
        }
      ],
      "source": [
        "final_text = writer.invoke({\"topic\": example_topic, \"draft\": section.as_str})\n",
        "print(final_text)"
      ]
    },
    {
      "cell_type": "markdown",
      "metadata": {
        "id": "GSzU_3TcFi9F"
      },
      "source": [
        "## Final Flow\n",
        "\n",
        "Now it's time to string everything together. We will have 6 main stages in sequence:\n",
        ".\n",
        "1. Generate the initial outline + perspectives\n",
        "2. Batch converse with each perspective to expand the content for the article\n",
        "3. Refine the outline based on the conversations\n",
        "4. Index the reference docs from the conversations\n",
        "5. Write the individual sections of the article\n",
        "6. Write the final wiki\n",
        "\n",
        "The state tracks the outputs of each stage."
      ]
    },
    {
      "cell_type": "code",
      "execution_count": null,
      "metadata": {
        "id": "zE2HV1ojFi9F"
      },
      "outputs": [],
      "source": [
        "class ResearchState(TypedDict):\n",
        "    topic: str\n",
        "    outline: Outline\n",
        "    editors: List[Editor]\n",
        "    interview_results: List[InterviewState]\n",
        "    # The final sections output\n",
        "    sections: List[WikiSection]\n",
        "    article: str"
      ]
    },
    {
      "cell_type": "code",
      "execution_count": null,
      "metadata": {
        "id": "2WBAKtQsFi9F"
      },
      "outputs": [],
      "source": [
        "import asyncio\n",
        "\n",
        "\n",
        "async def initialize_research(state: ResearchState):\n",
        "    topic = state[\"topic\"]\n",
        "    coros = (\n",
        "        generate_outline_direct.ainvoke({\"topic\": topic}),\n",
        "        survey_subjects.ainvoke(topic),\n",
        "    )\n",
        "    results = await asyncio.gather(*coros)\n",
        "    return {\n",
        "        **state,\n",
        "        \"outline\": results[0],\n",
        "        \"editors\": results[1].editors,\n",
        "    }\n",
        "\n",
        "\n",
        "async def conduct_interviews(state: ResearchState):\n",
        "    topic = state[\"topic\"]\n",
        "    initial_states = [\n",
        "        {\n",
        "            \"editor\": editor,\n",
        "            \"messages\": [\n",
        "                AIMessage(\n",
        "                    content=f\"では、{topic}について記事を書いているとおっしゃっていましたか？\",\n",
        "                    name=\"Subject_Matter_Expert\",\n",
        "                )\n",
        "            ],\n",
        "        }\n",
        "        for editor in state[\"editors\"]\n",
        "    ]\n",
        "    # We call in to the sub-graph here to parallelize the interviews\n",
        "    interview_results = await interview_graph.abatch(initial_states)\n",
        "\n",
        "    return {\n",
        "        **state,\n",
        "        \"interview_results\": interview_results,\n",
        "    }\n",
        "\n",
        "\n",
        "def format_conversation(interview_state):\n",
        "    messages = interview_state[\"messages\"]\n",
        "    convo = \"\\n\".join(f\"{m.name}: {m.content}\" for m in messages)\n",
        "    return f'{interview_state[\"editor\"].name}との会話\\n\\n' + convo\n",
        "\n",
        "\n",
        "async def refine_outline(state: ResearchState):\n",
        "    convos = \"\\n\\n\".join(\n",
        "        [\n",
        "            format_conversation(interview_state)\n",
        "            for interview_state in state[\"interview_results\"]\n",
        "        ]\n",
        "    )\n",
        "\n",
        "    updated_outline = await refine_outline_chain.ainvoke(\n",
        "        {\n",
        "            \"topic\": state[\"topic\"],\n",
        "            \"old_outline\": state[\"outline\"].as_str,\n",
        "            \"conversations\": convos,\n",
        "        }\n",
        "    )\n",
        "    return {**state, \"outline\": updated_outline}\n",
        "\n",
        "\n",
        "async def index_references(state: ResearchState):\n",
        "    all_docs = []\n",
        "    for interview_state in state[\"interview_results\"]:\n",
        "        reference_docs = [\n",
        "            Document(page_content=v, metadata={\"source\": k})\n",
        "            for k, v in interview_state[\"references\"].items()\n",
        "        ]\n",
        "        all_docs.extend(reference_docs)\n",
        "    await vectorstore.aadd_documents(all_docs)\n",
        "    return state\n",
        "\n",
        "\n",
        "async def write_sections(state: ResearchState):\n",
        "    outline = state[\"outline\"]\n",
        "    sections = await section_writer.abatch(\n",
        "        [\n",
        "            {\n",
        "                \"outline\": refined_outline.as_str,\n",
        "                \"section\": section.section_title,\n",
        "                \"topic\": state[\"topic\"],\n",
        "            }\n",
        "            for section in outline.sections\n",
        "        ]\n",
        "    )\n",
        "    return {\n",
        "        **state,\n",
        "        \"sections\": sections,\n",
        "    }\n",
        "\n",
        "\n",
        "async def write_article(state: ResearchState):\n",
        "    topic = state[\"topic\"]\n",
        "    sections = state[\"sections\"]\n",
        "    draft = \"\\n\\n\".join([section.as_str for section in sections])\n",
        "    article = await writer.ainvoke({\"topic\": topic, \"draft\": draft})\n",
        "    return {\n",
        "        **state,\n",
        "        \"article\": article,\n",
        "    }"
      ]
    },
    {
      "cell_type": "markdown",
      "metadata": {
        "id": "Z17SORjjFi9F"
      },
      "source": [
        "#### Create the graph"
      ]
    },
    {
      "cell_type": "code",
      "execution_count": null,
      "metadata": {
        "id": "KUKT5welFi9F"
      },
      "outputs": [],
      "source": [
        "from langgraph.checkpoint.memory import MemorySaver\n",
        "\n",
        "builder_of_storm = StateGraph(ResearchState)\n",
        "\n",
        "nodes = [\n",
        "    (\"init_research\", initialize_research),\n",
        "    (\"conduct_interviews\", conduct_interviews),\n",
        "    (\"refine_outline\", refine_outline),\n",
        "    (\"index_references\", index_references),\n",
        "    (\"write_sections\", write_sections),\n",
        "    (\"write_article\", write_article),\n",
        "]\n",
        "for i in range(len(nodes)):\n",
        "    name, node = nodes[i]\n",
        "    builder_of_storm.add_node(name, node, retry=RetryPolicy(max_attempts=3))\n",
        "    if i > 0:\n",
        "        builder_of_storm.add_edge(nodes[i - 1][0], name)\n",
        "\n",
        "builder_of_storm.add_edge(START, nodes[0][0])\n",
        "builder_of_storm.add_edge(nodes[-1][0], END)\n",
        "storm = builder_of_storm.compile(checkpointer=MemorySaver())"
      ]
    },
    {
      "cell_type": "code",
      "execution_count": null,
      "metadata": {
        "id": "kxQXleSMFi9F",
        "colab": {
          "base_uri": "https://localhost:8080/",
          "height": 747
        },
        "outputId": "0c9319d1-fd53-4d0e-8d96-1e9be5211920"
      },
      "outputs": [
        {
          "output_type": "display_data",
          "data": {
            "image/png": "[encoded data removed]",
            "text/plain": [
              "<IPython.core.display.Image object>"
            ]
          },
          "metadata": {}
        }
      ],
      "source": [
        "from IPython.display import Image, display\n",
        "\n",
        "try:\n",
        "    display(Image(storm.get_graph().draw_mermaid_png()))\n",
        "except Exception:\n",
        "    # This requires some extra dependencies and is optional\n",
        "    pass"
      ]
    },
    {
      "cell_type": "code",
      "execution_count": null,
      "metadata": {
        "id": "wBP4OwIxFi9F",
        "colab": {
          "base_uri": "https://localhost:8080/"
        },
        "outputId": "db2a2c57-8f3c-4ba9-dd50-1cf0e9f84f80"
      },
      "outputs": [
        {
          "output_type": "stream",
          "name": "stdout",
          "text": [
            "init_research\n",
            "--  {'topic': 'エクソソームの研究のトレンドを教えて', 'outline': Outline(page_title='エクソソームの研究トレンド', sections=[Section(section_title='概要', description='エクソソームは細胞から分泌される小胞（30〜150 nm程の粒子）であり、細胞間コミュニケーションに重要な役割を果たすとされる。特に様々なタンパク質、脂質、核酸などを含むため、診断・治療の両面で新たな可能性が期待されている。近年その機能解明が進むにつれ、研究分野は急速に拡大しており、がん、生殖免疫、神経科学、幹細胞治療など多岐にわたる分野\n"
          ]
        },
        {
          "output_type": "stream",
          "name": "stderr",
          "text": [
            "<ipython-input-14-4447ab4b0c39>:32: PydanticDeprecatedSince20: The `dict` method is deprecated; use `model_dump` instead. Deprecated in Pydantic V2.0 to be removed in V3.0. See Pydantic V2 Migration Guide at https://errors.pydantic.dev/2.10/migration/\n",
            "  message = HumanMessage(**message.dict(exclude={\"type\"}))\n",
            "<ipython-input-14-4447ab4b0c39>:32: PydanticDeprecatedSince20: The `dict` method is deprecated; use `model_dump` instead. Deprecated in Pydantic V2.0 to be removed in V3.0. See Pydantic V2 Migration Guide at https://errors.pydantic.dev/2.10/migration/\n",
            "  message = HumanMessage(**message.dict(exclude={\"type\"}))\n",
            "<ipython-input-14-4447ab4b0c39>:32: PydanticDeprecatedSince20: The `dict` method is deprecated; use `model_dump` instead. Deprecated in Pydantic V2.0 to be removed in V3.0. See Pydantic V2 Migration Guide at https://errors.pydantic.dev/2.10/migration/\n",
            "  message = HumanMessage(**message.dict(exclude={\"type\"}))\n",
            "<ipython-input-14-4447ab4b0c39>:32: PydanticDeprecatedSince20: The `dict` method is deprecated; use `model_dump` instead. Deprecated in Pydantic V2.0 to be removed in V3.0. See Pydantic V2 Migration Guide at https://errors.pydantic.dev/2.10/migration/\n",
            "  message = HumanMessage(**message.dict(exclude={\"type\"}))\n",
            "<ipython-input-14-4447ab4b0c39>:32: PydanticDeprecatedSince20: The `dict` method is deprecated; use `model_dump` instead. Deprecated in Pydantic V2.0 to be removed in V3.0. See Pydantic V2 Migration Guide at https://errors.pydantic.dev/2.10/migration/\n",
            "  message = HumanMessage(**message.dict(exclude={\"type\"}))\n",
            "<ipython-input-14-4447ab4b0c39>:32: PydanticDeprecatedSince20: The `dict` method is deprecated; use `model_dump` instead. Deprecated in Pydantic V2.0 to be removed in V3.0. See Pydantic V2 Migration Guide at https://errors.pydantic.dev/2.10/migration/\n",
            "  message = HumanMessage(**message.dict(exclude={\"type\"}))\n",
            "<ipython-input-14-4447ab4b0c39>:32: PydanticDeprecatedSince20: The `dict` method is deprecated; use `model_dump` instead. Deprecated in Pydantic V2.0 to be removed in V3.0. See Pydantic V2 Migration Guide at https://errors.pydantic.dev/2.10/migration/\n",
            "  message = HumanMessage(**message.dict(exclude={\"type\"}))\n",
            "<ipython-input-14-4447ab4b0c39>:32: PydanticDeprecatedSince20: The `dict` method is deprecated; use `model_dump` instead. Deprecated in Pydantic V2.0 to be removed in V3.0. See Pydantic V2 Migration Guide at https://errors.pydantic.dev/2.10/migration/\n",
            "  message = HumanMessage(**message.dict(exclude={\"type\"}))\n",
            "<ipython-input-14-4447ab4b0c39>:32: PydanticDeprecatedSince20: The `dict` method is deprecated; use `model_dump` instead. Deprecated in Pydantic V2.0 to be removed in V3.0. See Pydantic V2 Migration Guide at https://errors.pydantic.dev/2.10/migration/\n",
            "  message = HumanMessage(**message.dict(exclude={\"type\"}))\n",
            "<ipython-input-14-4447ab4b0c39>:32: PydanticDeprecatedSince20: The `dict` method is deprecated; use `model_dump` instead. Deprecated in Pydantic V2.0 to be removed in V3.0. See Pydantic V2 Migration Guide at https://errors.pydantic.dev/2.10/migration/\n",
            "  message = HumanMessage(**message.dict(exclude={\"type\"}))\n",
            "<ipython-input-14-4447ab4b0c39>:32: PydanticDeprecatedSince20: The `dict` method is deprecated; use `model_dump` instead. Deprecated in Pydantic V2.0 to be removed in V3.0. See Pydantic V2 Migration Guide at https://errors.pydantic.dev/2.10/migration/\n",
            "  message = HumanMessage(**message.dict(exclude={\"type\"}))\n",
            "<ipython-input-14-4447ab4b0c39>:32: PydanticDeprecatedSince20: The `dict` method is deprecated; use `model_dump` instead. Deprecated in Pydantic V2.0 to be removed in V3.0. See Pydantic V2 Migration Guide at https://errors.pydantic.dev/2.10/migration/\n",
            "  message = HumanMessage(**message.dict(exclude={\"type\"}))\n",
            "<ipython-input-14-4447ab4b0c39>:32: PydanticDeprecatedSince20: The `dict` method is deprecated; use `model_dump` instead. Deprecated in Pydantic V2.0 to be removed in V3.0. See Pydantic V2 Migration Guide at https://errors.pydantic.dev/2.10/migration/\n",
            "  message = HumanMessage(**message.dict(exclude={\"type\"}))\n",
            "<ipython-input-14-4447ab4b0c39>:32: PydanticDeprecatedSince20: The `dict` method is deprecated; use `model_dump` instead. Deprecated in Pydantic V2.0 to be removed in V3.0. See Pydantic V2 Migration Guide at https://errors.pydantic.dev/2.10/migration/\n",
            "  message = HumanMessage(**message.dict(exclude={\"type\"}))\n",
            "<ipython-input-14-4447ab4b0c39>:32: PydanticDeprecatedSince20: The `dict` method is deprecated; use `model_dump` instead. Deprecated in Pydantic V2.0 to be removed in V3.0. See Pydantic V2 Migration Guide at https://errors.pydantic.dev/2.10/migration/\n",
            "  message = HumanMessage(**message.dict(exclude={\"type\"}))\n",
            "<ipython-input-14-4447ab4b0c39>:32: PydanticDeprecatedSince20: The `dict` method is deprecated; use `model_dump` instead. Deprecated in Pydantic V2.0 to be removed in V3.0. See Pydantic V2 Migration Guide at https://errors.pydantic.dev/2.10/migration/\n",
            "  message = HumanMessage(**message.dict(exclude={\"type\"}))\n",
            "<ipython-input-14-4447ab4b0c39>:32: PydanticDeprecatedSince20: The `dict` method is deprecated; use `model_dump` instead. Deprecated in Pydantic V2.0 to be removed in V3.0. See Pydantic V2 Migration Guide at https://errors.pydantic.dev/2.10/migration/\n",
            "  message = HumanMessage(**message.dict(exclude={\"type\"}))\n",
            "<ipython-input-14-4447ab4b0c39>:32: PydanticDeprecatedSince20: The `dict` method is deprecated; use `model_dump` instead. Deprecated in Pydantic V2.0 to be removed in V3.0. See Pydantic V2 Migration Guide at https://errors.pydantic.dev/2.10/migration/\n",
            "  message = HumanMessage(**message.dict(exclude={\"type\"}))\n",
            "<ipython-input-14-4447ab4b0c39>:32: PydanticDeprecatedSince20: The `dict` method is deprecated; use `model_dump` instead. Deprecated in Pydantic V2.0 to be removed in V3.0. See Pydantic V2 Migration Guide at https://errors.pydantic.dev/2.10/migration/\n",
            "  message = HumanMessage(**message.dict(exclude={\"type\"}))\n",
            "<ipython-input-14-4447ab4b0c39>:32: PydanticDeprecatedSince20: The `dict` method is deprecated; use `model_dump` instead. Deprecated in Pydantic V2.0 to be removed in V3.0. See Pydantic V2 Migration Guide at https://errors.pydantic.dev/2.10/migration/\n",
            "  message = HumanMessage(**message.dict(exclude={\"type\"}))\n",
            "<ipython-input-14-4447ab4b0c39>:32: PydanticDeprecatedSince20: The `dict` method is deprecated; use `model_dump` instead. Deprecated in Pydantic V2.0 to be removed in V3.0. See Pydantic V2 Migration Guide at https://errors.pydantic.dev/2.10/migration/\n",
            "  message = HumanMessage(**message.dict(exclude={\"type\"}))\n",
            "<ipython-input-14-4447ab4b0c39>:32: PydanticDeprecatedSince20: The `dict` method is deprecated; use `model_dump` instead. Deprecated in Pydantic V2.0 to be removed in V3.0. See Pydantic V2 Migration Guide at https://errors.pydantic.dev/2.10/migration/\n",
            "  message = HumanMessage(**message.dict(exclude={\"type\"}))\n"
          ]
        },
        {
          "output_type": "stream",
          "name": "stdout",
          "text": [
            "conduct_interviews\n",
            "--  {'topic': 'エクソソームの研究のトレンドを教えて', 'outline': Outline(page_title='エクソソームの研究トレンド', sections=[Section(section_title='概要', description='エクソソームは細胞から分泌される小胞（30〜150 nm程の粒子）であり、細胞間コミュニケーションに重要な役割を果たすとされる。特に様々なタンパク質、脂質、核酸などを含むため、診断・治療の両面で新たな可能性が期待されている。近年その機能解明が進むにつれ、研究分野は急速に拡大しており、がん、生殖免疫、神経科学、幹細胞治療など多岐にわたる分野\n",
            "refine_outline\n",
            "--  {'topic': 'エクソソームの研究のトレンドを教えて', 'outline': Outline(page_title='エクソソームの研究トレンド', sections=[Section(section_title='概要', description='エクソソーム（exosome）は、細胞が分泌する直径30〜150 nm程度の細胞外小胞の一種であり、タンパク質・脂質・核酸など多様な分子を含むことから、細胞間コミュニケーションや疾患の進行・制御に重要な役割を果たすと考えられている。近年はがん、免疫疾患、精神神経疾患など多岐にわたる領域で応用研究が急速に進展しており、診断・治療の両面で高い\n",
            "index_references\n",
            "--  {'topic': 'エクソソームの研究のトレンドを教えて', 'outline': Outline(page_title='エクソソームの研究トレンド', sections=[Section(section_title='概要', description='エクソソーム（exosome）は、細胞が分泌する直径30〜150 nm程度の細胞外小胞の一種であり、タンパク質・脂質・核酸など多様な分子を含むことから、細胞間コミュニケーションや疾患の進行・制御に重要な役割を果たすと考えられている。近年はがん、免疫疾患、精神神経疾患など多岐にわたる領域で応用研究が急速に進展しており、診断・治療の両面で高い\n",
            "write_sections\n",
            "--  {'topic': 'エクソソームの研究のトレンドを教えて', 'outline': Outline(page_title='エクソソームの研究トレンド', sections=[Section(section_title='概要', description='エクソソーム（exosome）は、細胞が分泌する直径30〜150 nm程度の細胞外小胞の一種であり、タンパク質・脂質・核酸など多様な分子を含むことから、細胞間コミュニケーションや疾患の進行・制御に重要な役割を果たすと考えられている。近年はがん、免疫疾患、精神神経疾患など多岐にわたる領域で応用研究が急速に進展しており、診断・治療の両面で高い\n",
            "write_article\n",
            "--  {'topic': 'エクソソームの研究のトレンドを教えて', 'outline': Outline(page_title='エクソソームの研究トレンド', sections=[Section(section_title='概要', description='エクソソーム（exosome）は、細胞が分泌する直径30〜150 nm程度の細胞外小胞の一種であり、タンパク質・脂質・核酸など多様な分子を含むことから、細胞間コミュニケーションや疾患の進行・制御に重要な役割を果たすと考えられている。近年はがん、免疫疾患、精神神経疾患など多岐にわたる領域で応用研究が急速に進展しており、診断・治療の両面で高い\n"
          ]
        }
      ],
      "source": [
        "config = {\"configurable\": {\"thread_id\": \"my-thread\"}}\n",
        "async for step in storm.astream(\n",
        "    {\n",
        "        # \"topic\": \"熱・風以外の方法で髪の毛を乾かす技術のトレンドを教えて\",\n",
        "        # \"topic\": \"アミンを用いた固体状のCO2吸着剤のトレンドを教えて\",\n",
        "        \"topic\": \"エクソソームの研究のトレンドを教えて\",\n",
        "        # \"topic\": \"安全に関する行動変容手法のトレンドを教えて\",\n",
        "        # \"topic\": \"加熱調理器における料理品質・体験・機能に関する開発のトレンドを教えて\",\n",
        "    },\n",
        "    config,\n",
        "):\n",
        "    name = next(iter(step))\n",
        "    print(name)\n",
        "    print(\"-- \", str(step[name])[:300])"
      ]
    },
    {
      "cell_type": "code",
      "execution_count": null,
      "metadata": {
        "id": "EyxUIekuFi9F"
      },
      "outputs": [],
      "source": [
        "checkpoint = storm.get_state(config)\n",
        "article = checkpoint.values[\"article\"]"
      ]
    },
    {
      "cell_type": "markdown",
      "metadata": {
        "id": "i0E95CBhFi9G"
      },
      "source": [
        "## Render the Wiki\n",
        "\n",
        "Now we can render the final wiki page!"
      ]
    },
    {
      "cell_type": "code",
      "execution_count": null,
      "metadata": {
        "id": "7Qq572JoFi9G",
        "colab": {
          "base_uri": "https://localhost:8080/",
          "height": 1000
        },
        "outputId": "baa7af6c-77a5-4d43-f8ed-4a6e1b1e406e"
      },
      "outputs": [
        {
          "output_type": "execute_result",
          "data": {
            "text/plain": [
              "<IPython.core.display.Markdown object>"
            ],
            "text/markdown": "# エクソソーム\n\n### 概要\nエクソソームは細胞が放出する直径30～150nm程度の膜小胞で、タンパク質・脂質・核酸など多様な生体分子を内包している[2][3]。もともとは不要物質の排出経路とみなされていたが、1990年代以降、細胞間情報伝達における重要な役割が明らかとなり、研究が急速に進展した[2][4]。近年では、がん、再生医療、神経変性疾患など幅広い領域で注目されており、特にバイオマーカーやドラッグデリバリーシステム（DDS）としての応用研究が活発化している[3][4]。エクソソームは血液や尿など多数の体液中から検出可能であり、がんや感染症などの病態把握や診断、治療効果モニタリングに活用できる潜在性を有すると期待される一方、その分離や特性解析を標準化する研究課題も残されている[2][4][1]。\n\n### エクソソーム研究の変遷\nエクソソームが細胞間コミュニケーションに重要な役割を担うことが徐々に認識されるようになった背景には、1980年代から続く研究の積み重ねと技術革新がある。初期には細胞老廃物の排出経路と捉えられていたが、多様な生理機能と病理学的意義が次第に明らかとなり、がんや免疫、神経変性疾患など幅広い分野で注目を集めることとなった。\n\n#### 研究黎明期（1980年代〜1990年代）\n1980年代に、赤血球などから放出される細胞外小胞としてエクソソームが初めて報告された際には、不要なタンパク質を排出するメカニズムとして注目されていた[2]。しかし、1990年代に入り、複数の細胞がエクソソームを分泌し、分泌先の細胞との間で分子情報をやり取りする可能性が示唆されるようになった。この時期にはまだエクソソーム研究の規模は限定的であったが、培養細胞系から得られるエクソソームの機能解析や分離技術の確立が徐々に進められていった。\n\n#### 技術革新と応用拡大（2000年代〜）\n2000年代に入ると、次世代シーケンサーをはじめとするオミクス解析技術が発達し、エクソソーム内に含まれるRNAやタンパク質のプロファイルを高精度で解析できるようになった[2][3]。同時に、超遠心法やサイズ排除クロマトグラフィー、イムノアフィニティ法などの高度な分離・精製技術が普及し、より高純度のエクソソームを安定的に取得することが可能となった。当初は基礎研究の領域にとどまっていたエクソソーム研究は、がんの診断や治療標的としてのポテンシャルが見出されるにつれ急速に注目度が高まった[4]。さらに、免疫学的応答や幹細胞を用いた再生医療への応用など、多方面での利用が模索されている。こうした流れの中、特許出願や企業による研究開発も増加し、国際的な学術雑誌への論文投稿数も右肩上がりに増加している[3]。\n\n### 主要な研究トピック\nエクソソーム研究は、さまざまな疾患領域や生理機能にわたって急速に拡大している。がん微小環境における機能解明やドラッグデリバリーシステムとしての利用可能性、免疫応答や炎症制御における役割など、複合的要素を含む研究が数多く行われている。また、神経変性疾患や再生医療など幅広い分野に適用しうる知見が得られていることから、診断・治療両面での新規技術開発に向けた研究がさらに加速している。\n\n#### がん微小環境と転移研究\nがん細胞が分泌するエクソソームは、転移先の微小環境を整える“プログラミング”機能を持つと考えられており、免疫細胞や間質細胞といったさまざまな標的細胞に情報を伝達することで腫瘍細胞の生存や定着を促進する[4][5]。また、エクソソームはがんの増殖能や薬剤耐性の獲得にも関与しているため、がん治療標的としての重要性が注目されている。\n\n#### 免疫調整と自己免疫疾患\nエクソソームは抗原提示やサイトカイン分泌などの免疫反応に関与し、免疫細胞間の情報交換を仲介する役割を担う[3]。自己免疫疾患においても、エクソソームが炎症の制御や免疫寛容の破綻に関与する可能性が示唆されており、病態解明と新規治療法開発に向けた研究が行われている。\n\n#### 神経変性疾患への応用\nアルツハイマー病やパーキンソン病などの神経変性疾患において、エクソソームを介したmisfoldedタンパク質の拡散や神経保護効果の発現などが検討されている。エクソソーム内に含まれる特定のタンパク質や核酸が病態形成、あるいは修復プロセスに関与し得ることが示唆され、バイオマーカー探索と治療応用双方の面で注目されている[4][5]。\n\n#### 再生医療と組織修復\n幹細胞由来エクソソームは、組織修復や再生を促す活性を持つことが報告されており、細胞移植を伴わない再生医療技術として期待が寄せられている。心疾患や骨・軟骨障害など多領域の臨床応用を目指して研究開発が進行している。\n\n#### バイオマーカー探索\n血液や体液中を流れるエクソソームには疾患特異的なmiRNAやタンパク質が含まれるため、非侵襲的な検体採取でより早期に疾患を発見・モニタリングする手法として期待を集めている[2][4]。特にがん領域においては、血中のエクソソームを解析するリキッドバイオプシーによる早期診断技術の開発が活発化している。\n\n#### ドラッグデリバリーシステム（DDS）\n生体由来のエクソソームは免疫原性の低さや細胞特異的な取り込みを強化できる利点があり、薬剤や遺伝子を搭載したDDSキャリアとして注目を浴びている[2]。特定の受容体に対するリガンドを表面に導入する技術が進展しており、がんや難治性疾患への標的型治療の実用化も期待されている。\n\n#### 標準化と改変技術\n分離法や純度評価、物性解析の標準化は未だ確立途上であり、エクソソーム研究の進展には大量生産技術や品質管理体制の確立が欠かせない。さらに、エクソソームの膜タンパク質や内部cargoを人工的に改変する技術が進行しており、精密医療や先端治療への応用を見据えた研究が加速している[3][4]。\n\n### 最新の技術動向\nエクソソーム研究の進展は、高感度・高速な分離・検出技術や大容量データ解析手法の普及により大きく加速している。近年は、高度なマススペクトロメトリーを利用したプロテーム解析や、高精度の次世代シーケンサーを用いた核酸解析がさらに洗練され、エクソソーム内包分子の包括的なカタログ化が進行している[2][3]。また、がんや感染症など多様な疾患由来のエクソソームを効率的に検出・定量するために、マイクロ流体工学や電気化学的バイオセンサー、プラズモン共鳴センサーといった様々な計測技術の開発が活発化している[3][5]。加えて、エクソソームの表面修飾技術やナノ粒子とのハイブリッド化など、新しいエンジニアリング手法の研究も進み、DDSや診断ツールとしての応用可能性が一層広がっている[4]。\n\n#### 先進的な検出・分離技術の開発\nエクソソームを高純度で分離し、かつ疾患ごとの特徴を検出するために、免疫アッセイやサイズ排除クロマトグラフィー、マイクロ流体デバイスを組み合わせたハイブリッド手法が提案されている[3]。試料中のエクソソームを直接捕捉・定量するラベルフリーセンサーの研究も進んでおり、非侵襲的な診断への応用が期待される。さらに、一度に複数の生体分子を測定可能な高感度プラットフォームやナノテクノロジーを取り入れた新しいデバイスの開発により、エクソソーム解析の高速化と高精度化が実現しつつある。\n\n#### エクソソームの改変技術と応用\nエクソソームの機能を強化・改変する研究として、表面に特異的なリガンドやペプチドを付与し、標的細胞・組織への選択的な送達を可能にする手法が模索されている[4]。加えて、ゲノム編集技術や核酸結合分子の導入によって、内部に特定の遺伝子や医薬品を封入しやすくするアプローチも検討が進む。これらの先端技術と製造プロセスの最適化により、標準化されたエクソソーム製剤の実用化が見込まれている。\n\n### 安全性評価と規制課題\nエクソソームを医療用途やバイオ産業で活用するにあたっては、安全性や有効性だけでなく、製造プロセスや品質管理の標準化、規制対応など多岐にわたる課題の解消が不可欠とされる。特に、細胞由来製剤としてのエクソソームはその生物学的特性や微量成分の変動要因が多岐にわたるため、厳格な評価体制と法的枠組みの構築が求められている。さらに、近年では企業やクリニックによるエクソソーム・細胞外小胞製品の直接販売が増加しており、安全性や治療効果に対する信頼性を確保するための監視や基準整備が課題として浮上している[2][3]。\n\n#### 品質管理と製造基準の確立\nエクソソーム製剤を臨床現場へ導入するには、生産過程での精製度や活性の再現性を担保するための標準化が不可欠となる。具体的には、使用細胞の種類や培養条件、分離・精製方法の効率や再現性を一定に保ちつつ、エクソソームに内包されるタンパク質や核酸などのバイオアクティブ因子の均質化を図る必要がある[2]。さらに、製造後の性状を定量的に評価するための品質試験項目を定義し、規制当局が要求する基準を満たす形で製品化することが望ましい。こうした取り組みにより、エクソソームの臨床応用を進める際の安全性と有効性を証明する土台が整備されていく。\n\n#### 未承認製品と直接販売のリスク\n幹細胞やエクソソームを利用した再生医療技術への関心が高まるにつれ、企業やクリニックが未承認のエクソソーム製品を直接販売するケースが散見される[3]。これらの製品は厳密な安全性評価や有効性データに基づく承認を経ていない場合が多く、患者にとって健康リスクや経済的リスクが懸念される。特に美容や抗加齢領域では、科学的根拠や適切な使用法が確立されていないまま治療として提供される例も報告されており、国際的な規制やガイドラインの整備が急務とされる。\n\n#### 国際的枠組みと標準化の動向\nエクソソーム基盤研究の発展に伴い、国際的には研究者コミュニティや学会を中心に、製造・品質管理プロセスや安全管理指針を整備する動きが活発化している。たとえば国際細胞外小胞学会（ISEV）や欧州のCOSTプログラムでは、エクソソームを含む細胞外小胞の治療応用に関する品質保証やリスク評価、法規制上の位置づけに関する議論が進められている[2][5]。これらの取り組みは、企業接続型の研究だけでなく、公的機関が主導する大規模臨床試験やガイドライン策定の基礎にもなっており、今後さらに広がる見通しである。\n\n### 課題と展望\nエクソソーム研究の展望としては、さらなる基礎解析と標準化された評価法の確立、工業的な大量生産技術の確立、そして多様な疾患領域における新規治療・診断応用の可能性が挙げられる。一方で、他の細胞外小胞やマイクロベジクルなどとの区別や、分離・精製手法の精度向上と国際的なガイドラインの策定には多くの課題が残されている。今後は分子プロファイリングや解析プラットフォームの高度化が進むことで、安全性や有効性を担保しながら、エクソソームを活用したバイオマーカー開発やドラッグデリバリーシステムがより具体的に実用化されると期待される。\n\n#### 標準化と品質管理の課題\nエクソソームには多様性が存在し、他の細胞外小胞との厳密な区別が難しい。そのため、分離技術や定義づけに関する標準化が国際的に議論されている[5]。品質管理についても、高純度のエクソソームを継続的に安定供給するためのガイドライン整備が重要であり、様々な研究グループによる再現性ある実験手法の共有が課題となっている。\n\n#### 大量生産と応用研究の可能性\nエクソソームを治療応用に用いるには工業的な大量生産体制や品質保証体制の確立が欠かせない[3][4]。免疫原性の低さや細胞特異的な取り込みを促す特性から、DDSやがん治療への応用研究が活発化しているが、規制当局の基準を満たす安全性や均質性をどのように担保するかが大きな課題である。今後はバイオマーカーとしての測定プラットフォームと合わせて、製造プロセスや品質試験方法のさらなる標準化が求められる[2][5]。\n\n#### 今後の展望と研究拡大\n分子プロファイリング技術やオミクス解析の進歩に伴い、エクソソーム内の核酸・タンパク質などの新規バイオマーカー候補の発見が相次いで報告されている[4]。将来的には、個別化医療への貢献や創薬プラットフォームとしての確立が期待されており、世界的にも研究者・企業間の連携が進むことで新たな治療戦略が確立される可能性が高い。特に、がんや神経変性疾患などの重篤な疾患分野において、エクソソームを利用した診断や治療が次世代医療の一翼を担うと見込まれる。\n\n---\n\n### 参考文献\n[1] https://doi.org/10.1586/epr.09.17  \n[2] https://doi.org/10.3390/bios11120518  \n[3] https://doi.org/10.1080/20013078.2018.1438720  \n[4] https://doi.org/10.1016/j.tibtech.2019.04.008  \n[5] https://doi.org/10.1186/s12964-021-00730-1  \n[6] https://doi.org/10.3402/jev.v4.30087  \n[7] https://doi.org/10.1186/s13287-023-03335-2  \n[8] https://doi.org/10.3390/biom14121599  "
          },
          "metadata": {},
          "execution_count": 42
        }
      ],
      "source": [
        "from IPython.display import Markdown\n",
        "\n",
        "# We will down-header the sections to create less confusion in this notebook\n",
        "Markdown(article.replace(\"\\n#\", \"\\n##\"))"
      ]
    }
  ],
  "metadata": {
    "kernelspec": {
      "display_name": "Python 3 (ipykernel)",
      "language": "python",
      "name": "python3"
    },
    "language_info": {
      "codemirror_mode": {
        "name": "ipython",
        "version": 3
      },
      "file_extension": ".py",
      "mimetype": "text/x-python",
      "name": "python",
      "nbconvert_exporter": "python",
      "pygments_lexer": "ipython3",
      "version": "3.11.9"
    },
    "colab": {
      "provenance": []
    }
  },
  "nbformat": 4,
  "nbformat_minor": 0
}